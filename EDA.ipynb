{
 "cells": [
  {
   "cell_type": "markdown",
   "metadata": {},
   "source": [
    "# Imports"
   ]
  },
  {
   "cell_type": "code",
   "execution_count": 71,
   "metadata": {},
   "outputs": [],
   "source": [
    "from datetime import datetime as dt\n",
    "\n",
    "import json\n",
    "import matplotlib.pyplot as plt\n",
    "\n",
    "import numpy as np\n",
    "\n",
    "import os\n",
    "\n",
    "import pandas as pd\n",
    "import pickle\n",
    "\n",
    "pd.plotting.register_matplotlib_converters()\n",
    "plt.rc(\"figure\", figsize=(10, 8))\n",
    "plt.rc(\"font\", size=10)"
   ]
  },
  {
   "cell_type": "markdown",
   "metadata": {},
   "source": [
    "## Date-Time Parsing Investigation"
   ]
  },
  {
   "cell_type": "code",
   "execution_count": 3,
   "metadata": {},
   "outputs": [],
   "source": [
    "df = pd.read_csv(\"/workspaces/SE-Europe-Data_Challenge/data/raw/2022_to_2023/gen_DE_B01.csv\")"
   ]
  },
  {
   "cell_type": "code",
   "execution_count": 4,
   "metadata": {},
   "outputs": [],
   "source": [
    "df.drop(['EndTime', 'UnitName', 'AreaID', 'PsrType'], axis=1, inplace=True)\n",
    "df.rename(columns={'StartTime': 'start_time', 'quantity': 'energy_generated'}, inplace=True)\n",
    "df.sort_values(['start_time'], inplace=True)"
   ]
  },
  {
   "cell_type": "code",
   "execution_count": 5,
   "metadata": {},
   "outputs": [],
   "source": [
    "\n",
    "d1 = dt.strptime(\"2021-12-31T23:45+00:00Z\",\"%Y-%m-%dT%H:%M%zZ\")"
   ]
  },
  {
   "cell_type": "code",
   "execution_count": 6,
   "metadata": {},
   "outputs": [
    {
     "data": {
      "text/plain": [
       "datetime.datetime(2021, 12, 31, 23, 45, tzinfo=datetime.timezone.utc)"
      ]
     },
     "execution_count": 6,
     "metadata": {},
     "output_type": "execute_result"
    }
   ],
   "source": [
    "d1"
   ]
  },
  {
   "cell_type": "code",
   "execution_count": 7,
   "metadata": {},
   "outputs": [],
   "source": [
    "new_format = \"%Y-%m-%d %H:%M:%S\""
   ]
  },
  {
   "cell_type": "code",
   "execution_count": 8,
   "metadata": {},
   "outputs": [
    {
     "data": {
      "text/plain": [
       "'2021-12-31 23:45:00'"
      ]
     },
     "execution_count": 8,
     "metadata": {},
     "output_type": "execute_result"
    }
   ],
   "source": [
    "d1.strftime(new_format)"
   ]
  },
  {
   "cell_type": "code",
   "execution_count": 49,
   "metadata": {},
   "outputs": [
    {
     "data": {
      "text/plain": [
       "datetime.datetime"
      ]
     },
     "execution_count": 49,
     "metadata": {},
     "output_type": "execute_result"
    }
   ],
   "source": [
    "type(d1)"
   ]
  },
  {
   "cell_type": "markdown",
   "metadata": {},
   "source": [
    "## EDA Training Data"
   ]
  },
  {
   "cell_type": "code",
   "execution_count": 21,
   "metadata": {},
   "outputs": [],
   "source": [
    "data = pd.read_csv(\"/workspaces/SE-Europe-Data_Challenge/data/processed.csv\", parse_dates= ['start_time'], index_col='start_time')"
   ]
  },
  {
   "cell_type": "code",
   "execution_count": 22,
   "metadata": {},
   "outputs": [
    {
     "data": {
      "text/html": [
       "<div>\n",
       "<style scoped>\n",
       "    .dataframe tbody tr th:only-of-type {\n",
       "        vertical-align: middle;\n",
       "    }\n",
       "\n",
       "    .dataframe tbody tr th {\n",
       "        vertical-align: top;\n",
       "    }\n",
       "\n",
       "    .dataframe thead th {\n",
       "        text-align: right;\n",
       "    }\n",
       "</style>\n",
       "<table border=\"1\" class=\"dataframe\">\n",
       "  <thead>\n",
       "    <tr style=\"text-align: right;\">\n",
       "      <th></th>\n",
       "      <th>green_energy_DE</th>\n",
       "      <th>DE_Load</th>\n",
       "      <th>green_energy_HU</th>\n",
       "      <th>HU_Load</th>\n",
       "      <th>green_energy_IT</th>\n",
       "      <th>IT_Load</th>\n",
       "      <th>green_energy_PO</th>\n",
       "      <th>PO_Load</th>\n",
       "      <th>green_energy_SP</th>\n",
       "      <th>SP_Load</th>\n",
       "      <th>green_energy_UK</th>\n",
       "      <th>UK_Load</th>\n",
       "      <th>green_energy_DK</th>\n",
       "      <th>DK_Load</th>\n",
       "      <th>green_energy_SE</th>\n",
       "      <th>SE_Load</th>\n",
       "      <th>green_energy_NE</th>\n",
       "      <th>NE_Load</th>\n",
       "    </tr>\n",
       "    <tr>\n",
       "      <th>start_time</th>\n",
       "      <th></th>\n",
       "      <th></th>\n",
       "      <th></th>\n",
       "      <th></th>\n",
       "      <th></th>\n",
       "      <th></th>\n",
       "      <th></th>\n",
       "      <th></th>\n",
       "      <th></th>\n",
       "      <th></th>\n",
       "      <th></th>\n",
       "      <th></th>\n",
       "      <th></th>\n",
       "      <th></th>\n",
       "      <th></th>\n",
       "      <th></th>\n",
       "      <th></th>\n",
       "      <th></th>\n",
       "    </tr>\n",
       "  </thead>\n",
       "  <tbody>\n",
       "    <tr>\n",
       "      <th>2021-12-31 23:00:00</th>\n",
       "      <td>39401</td>\n",
       "      <td>42196</td>\n",
       "      <td>285</td>\n",
       "      <td>4254</td>\n",
       "      <td>5801.0</td>\n",
       "      <td>21121.0</td>\n",
       "      <td>4641.0</td>\n",
       "      <td>14438.0</td>\n",
       "      <td>11244</td>\n",
       "      <td>20827</td>\n",
       "      <td>0.0</td>\n",
       "      <td>677.0</td>\n",
       "      <td>3652.0</td>\n",
       "      <td>3314.0</td>\n",
       "      <td>11060.0</td>\n",
       "      <td>15331.0</td>\n",
       "      <td>3554</td>\n",
       "      <td>10326</td>\n",
       "    </tr>\n",
       "    <tr>\n",
       "      <th>2022-01-01 00:00:00</th>\n",
       "      <td>157373</td>\n",
       "      <td>165125</td>\n",
       "      <td>1376</td>\n",
       "      <td>16457</td>\n",
       "      <td>5745.0</td>\n",
       "      <td>19756.0</td>\n",
       "      <td>4491.0</td>\n",
       "      <td>13935.0</td>\n",
       "      <td>10827</td>\n",
       "      <td>19530</td>\n",
       "      <td>0.0</td>\n",
       "      <td>1244.0</td>\n",
       "      <td>3605.0</td>\n",
       "      <td>3218.0</td>\n",
       "      <td>11107.0</td>\n",
       "      <td>15331.0</td>\n",
       "      <td>12768</td>\n",
       "      <td>40706</td>\n",
       "    </tr>\n",
       "    <tr>\n",
       "      <th>2022-01-01 01:00:00</th>\n",
       "      <td>151747</td>\n",
       "      <td>160415</td>\n",
       "      <td>1526</td>\n",
       "      <td>15426</td>\n",
       "      <td>6228.0</td>\n",
       "      <td>18685.0</td>\n",
       "      <td>4436.0</td>\n",
       "      <td>13579.0</td>\n",
       "      <td>11140</td>\n",
       "      <td>18383</td>\n",
       "      <td>0.0</td>\n",
       "      <td>1131.0</td>\n",
       "      <td>3309.0</td>\n",
       "      <td>3126.0</td>\n",
       "      <td>11036.0</td>\n",
       "      <td>15270.0</td>\n",
       "      <td>11131</td>\n",
       "      <td>39465</td>\n",
       "    </tr>\n",
       "    <tr>\n",
       "      <th>2022-01-01 02:00:00</th>\n",
       "      <td>147938</td>\n",
       "      <td>158035</td>\n",
       "      <td>1560</td>\n",
       "      <td>14781</td>\n",
       "      <td>6407.0</td>\n",
       "      <td>18124.0</td>\n",
       "      <td>4568.0</td>\n",
       "      <td>13397.0</td>\n",
       "      <td>11361</td>\n",
       "      <td>17680</td>\n",
       "      <td>0.0</td>\n",
       "      <td>1091.0</td>\n",
       "      <td>3043.0</td>\n",
       "      <td>3080.0</td>\n",
       "      <td>10509.0</td>\n",
       "      <td>15150.0</td>\n",
       "      <td>11324</td>\n",
       "      <td>38923</td>\n",
       "    </tr>\n",
       "    <tr>\n",
       "      <th>2022-01-01 03:00:00</th>\n",
       "      <td>141816</td>\n",
       "      <td>157016</td>\n",
       "      <td>1287</td>\n",
       "      <td>14630</td>\n",
       "      <td>5760.0</td>\n",
       "      <td>18400.0</td>\n",
       "      <td>4559.0</td>\n",
       "      <td>13364.0</td>\n",
       "      <td>11247</td>\n",
       "      <td>17396</td>\n",
       "      <td>0.0</td>\n",
       "      <td>969.0</td>\n",
       "      <td>2852.0</td>\n",
       "      <td>3044.0</td>\n",
       "      <td>10770.0</td>\n",
       "      <td>15387.0</td>\n",
       "      <td>11290</td>\n",
       "      <td>38211</td>\n",
       "    </tr>\n",
       "  </tbody>\n",
       "</table>\n",
       "</div>"
      ],
      "text/plain": [
       "                     green_energy_DE  DE_Load  green_energy_HU  HU_Load  \\\n",
       "start_time                                                                \n",
       "2021-12-31 23:00:00            39401    42196              285     4254   \n",
       "2022-01-01 00:00:00           157373   165125             1376    16457   \n",
       "2022-01-01 01:00:00           151747   160415             1526    15426   \n",
       "2022-01-01 02:00:00           147938   158035             1560    14781   \n",
       "2022-01-01 03:00:00           141816   157016             1287    14630   \n",
       "\n",
       "                     green_energy_IT  IT_Load  green_energy_PO  PO_Load  \\\n",
       "start_time                                                                \n",
       "2021-12-31 23:00:00           5801.0  21121.0           4641.0  14438.0   \n",
       "2022-01-01 00:00:00           5745.0  19756.0           4491.0  13935.0   \n",
       "2022-01-01 01:00:00           6228.0  18685.0           4436.0  13579.0   \n",
       "2022-01-01 02:00:00           6407.0  18124.0           4568.0  13397.0   \n",
       "2022-01-01 03:00:00           5760.0  18400.0           4559.0  13364.0   \n",
       "\n",
       "                     green_energy_SP  SP_Load  green_energy_UK  UK_Load  \\\n",
       "start_time                                                                \n",
       "2021-12-31 23:00:00            11244    20827              0.0    677.0   \n",
       "2022-01-01 00:00:00            10827    19530              0.0   1244.0   \n",
       "2022-01-01 01:00:00            11140    18383              0.0   1131.0   \n",
       "2022-01-01 02:00:00            11361    17680              0.0   1091.0   \n",
       "2022-01-01 03:00:00            11247    17396              0.0    969.0   \n",
       "\n",
       "                     green_energy_DK  DK_Load  green_energy_SE  SE_Load  \\\n",
       "start_time                                                                \n",
       "2021-12-31 23:00:00           3652.0   3314.0          11060.0  15331.0   \n",
       "2022-01-01 00:00:00           3605.0   3218.0          11107.0  15331.0   \n",
       "2022-01-01 01:00:00           3309.0   3126.0          11036.0  15270.0   \n",
       "2022-01-01 02:00:00           3043.0   3080.0          10509.0  15150.0   \n",
       "2022-01-01 03:00:00           2852.0   3044.0          10770.0  15387.0   \n",
       "\n",
       "                     green_energy_NE  NE_Load  \n",
       "start_time                                     \n",
       "2021-12-31 23:00:00             3554    10326  \n",
       "2022-01-01 00:00:00            12768    40706  \n",
       "2022-01-01 01:00:00            11131    39465  \n",
       "2022-01-01 02:00:00            11324    38923  \n",
       "2022-01-01 03:00:00            11290    38211  "
      ]
     },
     "execution_count": 22,
     "metadata": {},
     "output_type": "execute_result"
    }
   ],
   "source": [
    "data.head()"
   ]
  },
  {
   "cell_type": "code",
   "execution_count": 23,
   "metadata": {},
   "outputs": [
    {
     "data": {
      "text/plain": [
       "Index(['green_energy_DE', 'DE_Load', 'green_energy_HU', 'HU_Load',\n",
       "       'green_energy_IT', 'IT_Load', 'green_energy_PO', 'PO_Load',\n",
       "       'green_energy_SP', 'SP_Load', 'green_energy_UK', 'UK_Load',\n",
       "       'green_energy_DK', 'DK_Load', 'green_energy_SE', 'SE_Load',\n",
       "       'green_energy_NE', 'NE_Load'],\n",
       "      dtype='object')"
      ]
     },
     "execution_count": 23,
     "metadata": {},
     "output_type": "execute_result"
    }
   ],
   "source": [
    "data.columns"
   ]
  },
  {
   "cell_type": "code",
   "execution_count": 24,
   "metadata": {},
   "outputs": [
    {
     "data": {
      "text/plain": [
       "(8761, 18)"
      ]
     },
     "execution_count": 24,
     "metadata": {},
     "output_type": "execute_result"
    }
   ],
   "source": [
    "data.shape"
   ]
  },
  {
   "cell_type": "code",
   "execution_count": 25,
   "metadata": {},
   "outputs": [
    {
     "name": "stdout",
     "output_type": "stream",
     "text": [
      "<class 'pandas.core.frame.DataFrame'>\n",
      "DatetimeIndex: 8761 entries, 2021-12-31 23:00:00 to 2022-12-31 23:00:00\n",
      "Data columns (total 18 columns):\n",
      " #   Column           Non-Null Count  Dtype  \n",
      "---  ------           --------------  -----  \n",
      " 0   green_energy_DE  8761 non-null   int64  \n",
      " 1   DE_Load          8761 non-null   int64  \n",
      " 2   green_energy_HU  8761 non-null   int64  \n",
      " 3   HU_Load          8761 non-null   int64  \n",
      " 4   green_energy_IT  8761 non-null   float64\n",
      " 5   IT_Load          8761 non-null   float64\n",
      " 6   green_energy_PO  8761 non-null   float64\n",
      " 7   PO_Load          8761 non-null   float64\n",
      " 8   green_energy_SP  8761 non-null   int64  \n",
      " 9   SP_Load          8761 non-null   int64  \n",
      " 10  green_energy_UK  8761 non-null   float64\n",
      " 11  UK_Load          8761 non-null   float64\n",
      " 12  green_energy_DK  8761 non-null   float64\n",
      " 13  DK_Load          8761 non-null   float64\n",
      " 14  green_energy_SE  8761 non-null   float64\n",
      " 15  SE_Load          8761 non-null   float64\n",
      " 16  green_energy_NE  8761 non-null   int64  \n",
      " 17  NE_Load          8761 non-null   int64  \n",
      "dtypes: float64(10), int64(8)\n",
      "memory usage: 1.3 MB\n"
     ]
    }
   ],
   "source": [
    "data.info()"
   ]
  },
  {
   "cell_type": "code",
   "execution_count": 26,
   "metadata": {},
   "outputs": [],
   "source": [
    "for column in data.columns:\n",
    "    if column != 'start_time':  # Skipping the 'start_time' column\n",
    "        data[column] = data[column].astype(int)"
   ]
  },
  {
   "cell_type": "code",
   "execution_count": 27,
   "metadata": {},
   "outputs": [
    {
     "data": {
      "text/plain": [
       "green_energy_DE    int64\n",
       "DE_Load            int64\n",
       "green_energy_HU    int64\n",
       "HU_Load            int64\n",
       "green_energy_IT    int64\n",
       "IT_Load            int64\n",
       "green_energy_PO    int64\n",
       "PO_Load            int64\n",
       "green_energy_SP    int64\n",
       "SP_Load            int64\n",
       "green_energy_UK    int64\n",
       "UK_Load            int64\n",
       "green_energy_DK    int64\n",
       "DK_Load            int64\n",
       "green_energy_SE    int64\n",
       "SE_Load            int64\n",
       "green_energy_NE    int64\n",
       "NE_Load            int64\n",
       "dtype: object"
      ]
     },
     "execution_count": 27,
     "metadata": {},
     "output_type": "execute_result"
    }
   ],
   "source": [
    "data.dtypes"
   ]
  },
  {
   "cell_type": "code",
   "execution_count": 28,
   "metadata": {},
   "outputs": [
    {
     "name": "stdout",
     "output_type": "stream",
     "text": [
      "<class 'pandas.core.frame.DataFrame'>\n",
      "DatetimeIndex: 8761 entries, 2021-12-31 23:00:00 to 2022-12-31 23:00:00\n",
      "Data columns (total 18 columns):\n",
      " #   Column           Non-Null Count  Dtype\n",
      "---  ------           --------------  -----\n",
      " 0   green_energy_DE  8761 non-null   int64\n",
      " 1   DE_Load          8761 non-null   int64\n",
      " 2   green_energy_HU  8761 non-null   int64\n",
      " 3   HU_Load          8761 non-null   int64\n",
      " 4   green_energy_IT  8761 non-null   int64\n",
      " 5   IT_Load          8761 non-null   int64\n",
      " 6   green_energy_PO  8761 non-null   int64\n",
      " 7   PO_Load          8761 non-null   int64\n",
      " 8   green_energy_SP  8761 non-null   int64\n",
      " 9   SP_Load          8761 non-null   int64\n",
      " 10  green_energy_UK  8761 non-null   int64\n",
      " 11  UK_Load          8761 non-null   int64\n",
      " 12  green_energy_DK  8761 non-null   int64\n",
      " 13  DK_Load          8761 non-null   int64\n",
      " 14  green_energy_SE  8761 non-null   int64\n",
      " 15  SE_Load          8761 non-null   int64\n",
      " 16  green_energy_NE  8761 non-null   int64\n",
      " 17  NE_Load          8761 non-null   int64\n",
      "dtypes: int64(18)\n",
      "memory usage: 1.3 MB\n"
     ]
    }
   ],
   "source": [
    "data.info()"
   ]
  },
  {
   "cell_type": "code",
   "execution_count": 29,
   "metadata": {},
   "outputs": [
    {
     "data": {
      "text/plain": [
       "green_energy_DE    0\n",
       "DE_Load            0\n",
       "green_energy_HU    0\n",
       "HU_Load            0\n",
       "green_energy_IT    0\n",
       "IT_Load            0\n",
       "green_energy_PO    0\n",
       "PO_Load            0\n",
       "green_energy_SP    0\n",
       "SP_Load            0\n",
       "green_energy_UK    0\n",
       "UK_Load            0\n",
       "green_energy_DK    0\n",
       "DK_Load            0\n",
       "green_energy_SE    0\n",
       "SE_Load            0\n",
       "green_energy_NE    0\n",
       "NE_Load            0\n",
       "dtype: int64"
      ]
     },
     "execution_count": 29,
     "metadata": {},
     "output_type": "execute_result"
    }
   ],
   "source": [
    "data.isnull().sum()"
   ]
  },
  {
   "cell_type": "code",
   "execution_count": 30,
   "metadata": {},
   "outputs": [],
   "source": [
    "processed_df = data.copy(deep=True)"
   ]
  },
  {
   "cell_type": "code",
   "execution_count": 31,
   "metadata": {},
   "outputs": [
    {
     "data": {
      "text/plain": [
       "DatetimeIndex(['2021-12-31 23:00:00', '2022-01-01 00:00:00',\n",
       "               '2022-01-01 01:00:00', '2022-01-01 02:00:00',\n",
       "               '2022-01-01 03:00:00', '2022-01-01 04:00:00',\n",
       "               '2022-01-01 05:00:00', '2022-01-01 06:00:00',\n",
       "               '2022-01-01 07:00:00', '2022-01-01 08:00:00',\n",
       "               ...\n",
       "               '2022-12-31 14:00:00', '2022-12-31 15:00:00',\n",
       "               '2022-12-31 16:00:00', '2022-12-31 17:00:00',\n",
       "               '2022-12-31 18:00:00', '2022-12-31 19:00:00',\n",
       "               '2022-12-31 20:00:00', '2022-12-31 21:00:00',\n",
       "               '2022-12-31 22:00:00', '2022-12-31 23:00:00'],\n",
       "              dtype='datetime64[ns]', name='start_time', length=8761, freq=None)"
      ]
     },
     "execution_count": 31,
     "metadata": {},
     "output_type": "execute_result"
    }
   ],
   "source": [
    "processed_df.index"
   ]
  },
  {
   "cell_type": "code",
   "execution_count": 19,
   "metadata": {},
   "outputs": [],
   "source": [
    "# Calculating the surplus for each country and creating the label column\n",
    "\n",
    "country_ids = {\n",
    "    \"SP\": 0,  # Spain\n",
    "    \"UK\": 1,  # United Kingdom\n",
    "    \"DE\": 2,  # Germany\n",
    "    \"DK\": 3,  # Denmark\n",
    "    \"SE\": 4,  # Sweden\n",
    "    \"HU\": 5,  # Hungary\n",
    "    \"IT\": 6,  # Italy\n",
    "    \"PO\": 7,  # Poland\n",
    "    \"NE\": 8   # Netherlands\n",
    "}\n",
    "\n"
   ]
  },
  {
   "cell_type": "code",
   "execution_count": 20,
   "metadata": {},
   "outputs": [],
   "source": [
    "# Calculate surplus for each country\n",
    "for country_code in country_ids.keys():\n",
    "    green_energy_col = f'green_energy_{country_code}'\n",
    "    load_col = f'{country_code}_Load'\n",
    "    surplus_col = f'{country_code}_surplus'\n",
    "    processed_df[surplus_col] = processed_df[green_energy_col] - processed_df[load_col]"
   ]
  },
  {
   "cell_type": "code",
   "execution_count": 21,
   "metadata": {},
   "outputs": [],
   "source": [
    "# Determine the country with the highest surplus for each hour\n",
    "surplus_cols = [f'{code}_surplus' for code in country_ids.keys()]\n",
    "processed_df['label'] = processed_df[surplus_cols].idxmax(axis=1)\n",
    "processed_df['label'] = processed_df['label'].apply(lambda x: country_ids[x.split('_')[0]])"
   ]
  },
  {
   "cell_type": "code",
   "execution_count": 22,
   "metadata": {},
   "outputs": [
    {
     "data": {
      "text/plain": [
       "(8761, 29)"
      ]
     },
     "execution_count": 22,
     "metadata": {},
     "output_type": "execute_result"
    }
   ],
   "source": [
    "processed_df.shape"
   ]
  },
  {
   "cell_type": "code",
   "execution_count": 23,
   "metadata": {},
   "outputs": [
    {
     "data": {
      "text/plain": [
       "start_time         0\n",
       "green_energy_DE    0\n",
       "DE_Load            0\n",
       "green_energy_HU    0\n",
       "HU_Load            0\n",
       "green_energy_IT    0\n",
       "IT_Load            0\n",
       "green_energy_PO    0\n",
       "PO_Load            0\n",
       "green_energy_SP    0\n",
       "SP_Load            0\n",
       "green_energy_UK    0\n",
       "UK_Load            0\n",
       "green_energy_DK    0\n",
       "DK_Load            0\n",
       "green_energy_SE    0\n",
       "SE_Load            0\n",
       "green_energy_NE    0\n",
       "NE_Load            0\n",
       "SP_surplus         0\n",
       "UK_surplus         0\n",
       "DE_surplus         0\n",
       "DK_surplus         0\n",
       "SE_surplus         0\n",
       "HU_surplus         0\n",
       "IT_surplus         0\n",
       "PO_surplus         0\n",
       "NE_surplus         0\n",
       "label              0\n",
       "dtype: int64"
      ]
     },
     "execution_count": 23,
     "metadata": {},
     "output_type": "execute_result"
    }
   ],
   "source": [
    "processed_df.isnull().sum()"
   ]
  },
  {
   "cell_type": "code",
   "execution_count": 24,
   "metadata": {},
   "outputs": [
    {
     "data": {
      "text/html": [
       "<div>\n",
       "<style scoped>\n",
       "    .dataframe tbody tr th:only-of-type {\n",
       "        vertical-align: middle;\n",
       "    }\n",
       "\n",
       "    .dataframe tbody tr th {\n",
       "        vertical-align: top;\n",
       "    }\n",
       "\n",
       "    .dataframe thead th {\n",
       "        text-align: right;\n",
       "    }\n",
       "</style>\n",
       "<table border=\"1\" class=\"dataframe\">\n",
       "  <thead>\n",
       "    <tr style=\"text-align: right;\">\n",
       "      <th></th>\n",
       "      <th>start_time</th>\n",
       "      <th>green_energy_DE</th>\n",
       "      <th>DE_Load</th>\n",
       "      <th>green_energy_HU</th>\n",
       "      <th>HU_Load</th>\n",
       "      <th>green_energy_IT</th>\n",
       "      <th>IT_Load</th>\n",
       "      <th>green_energy_PO</th>\n",
       "      <th>PO_Load</th>\n",
       "      <th>green_energy_SP</th>\n",
       "      <th>...</th>\n",
       "      <th>SP_surplus</th>\n",
       "      <th>UK_surplus</th>\n",
       "      <th>DE_surplus</th>\n",
       "      <th>DK_surplus</th>\n",
       "      <th>SE_surplus</th>\n",
       "      <th>HU_surplus</th>\n",
       "      <th>IT_surplus</th>\n",
       "      <th>PO_surplus</th>\n",
       "      <th>NE_surplus</th>\n",
       "      <th>label</th>\n",
       "    </tr>\n",
       "  </thead>\n",
       "  <tbody>\n",
       "    <tr>\n",
       "      <th>1</th>\n",
       "      <td>2022-01-01 00:00:00</td>\n",
       "      <td>157373</td>\n",
       "      <td>165125</td>\n",
       "      <td>1376</td>\n",
       "      <td>16457</td>\n",
       "      <td>5745</td>\n",
       "      <td>19756</td>\n",
       "      <td>4491</td>\n",
       "      <td>13935</td>\n",
       "      <td>10827</td>\n",
       "      <td>...</td>\n",
       "      <td>-8703</td>\n",
       "      <td>-1244</td>\n",
       "      <td>-7752</td>\n",
       "      <td>387</td>\n",
       "      <td>-4224</td>\n",
       "      <td>-15081</td>\n",
       "      <td>-14011</td>\n",
       "      <td>-9444</td>\n",
       "      <td>-27938</td>\n",
       "      <td>3</td>\n",
       "    </tr>\n",
       "    <tr>\n",
       "      <th>2</th>\n",
       "      <td>2022-01-01 01:00:00</td>\n",
       "      <td>151747</td>\n",
       "      <td>160415</td>\n",
       "      <td>1526</td>\n",
       "      <td>15426</td>\n",
       "      <td>6228</td>\n",
       "      <td>18685</td>\n",
       "      <td>4436</td>\n",
       "      <td>13579</td>\n",
       "      <td>11140</td>\n",
       "      <td>...</td>\n",
       "      <td>-7243</td>\n",
       "      <td>-1131</td>\n",
       "      <td>-8668</td>\n",
       "      <td>183</td>\n",
       "      <td>-4234</td>\n",
       "      <td>-13900</td>\n",
       "      <td>-12457</td>\n",
       "      <td>-9143</td>\n",
       "      <td>-28334</td>\n",
       "      <td>3</td>\n",
       "    </tr>\n",
       "    <tr>\n",
       "      <th>3</th>\n",
       "      <td>2022-01-01 02:00:00</td>\n",
       "      <td>147938</td>\n",
       "      <td>158035</td>\n",
       "      <td>1560</td>\n",
       "      <td>14781</td>\n",
       "      <td>6407</td>\n",
       "      <td>18124</td>\n",
       "      <td>4568</td>\n",
       "      <td>13397</td>\n",
       "      <td>11361</td>\n",
       "      <td>...</td>\n",
       "      <td>-6319</td>\n",
       "      <td>-1091</td>\n",
       "      <td>-10097</td>\n",
       "      <td>-37</td>\n",
       "      <td>-4641</td>\n",
       "      <td>-13221</td>\n",
       "      <td>-11717</td>\n",
       "      <td>-8829</td>\n",
       "      <td>-27599</td>\n",
       "      <td>3</td>\n",
       "    </tr>\n",
       "    <tr>\n",
       "      <th>4</th>\n",
       "      <td>2022-01-01 03:00:00</td>\n",
       "      <td>141816</td>\n",
       "      <td>157016</td>\n",
       "      <td>1287</td>\n",
       "      <td>14630</td>\n",
       "      <td>5760</td>\n",
       "      <td>18400</td>\n",
       "      <td>4559</td>\n",
       "      <td>13364</td>\n",
       "      <td>11247</td>\n",
       "      <td>...</td>\n",
       "      <td>-6149</td>\n",
       "      <td>-969</td>\n",
       "      <td>-15200</td>\n",
       "      <td>-192</td>\n",
       "      <td>-4617</td>\n",
       "      <td>-13343</td>\n",
       "      <td>-12640</td>\n",
       "      <td>-8805</td>\n",
       "      <td>-26921</td>\n",
       "      <td>3</td>\n",
       "    </tr>\n",
       "    <tr>\n",
       "      <th>5</th>\n",
       "      <td>2022-01-01 04:00:00</td>\n",
       "      <td>131970</td>\n",
       "      <td>154552</td>\n",
       "      <td>1309</td>\n",
       "      <td>14688</td>\n",
       "      <td>5501</td>\n",
       "      <td>19223</td>\n",
       "      <td>4374</td>\n",
       "      <td>13449</td>\n",
       "      <td>10868</td>\n",
       "      <td>...</td>\n",
       "      <td>-6676</td>\n",
       "      <td>-896</td>\n",
       "      <td>-22582</td>\n",
       "      <td>-406</td>\n",
       "      <td>-4885</td>\n",
       "      <td>-13379</td>\n",
       "      <td>-13722</td>\n",
       "      <td>-9075</td>\n",
       "      <td>-27053</td>\n",
       "      <td>3</td>\n",
       "    </tr>\n",
       "  </tbody>\n",
       "</table>\n",
       "<p>5 rows × 29 columns</p>\n",
       "</div>"
      ],
      "text/plain": [
       "           start_time  green_energy_DE  DE_Load  green_energy_HU  HU_Load  \\\n",
       "1 2022-01-01 00:00:00           157373   165125             1376    16457   \n",
       "2 2022-01-01 01:00:00           151747   160415             1526    15426   \n",
       "3 2022-01-01 02:00:00           147938   158035             1560    14781   \n",
       "4 2022-01-01 03:00:00           141816   157016             1287    14630   \n",
       "5 2022-01-01 04:00:00           131970   154552             1309    14688   \n",
       "\n",
       "   green_energy_IT  IT_Load  green_energy_PO  PO_Load  green_energy_SP  ...  \\\n",
       "1             5745    19756             4491    13935            10827  ...   \n",
       "2             6228    18685             4436    13579            11140  ...   \n",
       "3             6407    18124             4568    13397            11361  ...   \n",
       "4             5760    18400             4559    13364            11247  ...   \n",
       "5             5501    19223             4374    13449            10868  ...   \n",
       "\n",
       "   SP_surplus  UK_surplus  DE_surplus  DK_surplus  SE_surplus  HU_surplus  \\\n",
       "1       -8703       -1244       -7752         387       -4224      -15081   \n",
       "2       -7243       -1131       -8668         183       -4234      -13900   \n",
       "3       -6319       -1091      -10097         -37       -4641      -13221   \n",
       "4       -6149        -969      -15200        -192       -4617      -13343   \n",
       "5       -6676        -896      -22582        -406       -4885      -13379   \n",
       "\n",
       "   IT_surplus  PO_surplus  NE_surplus  label  \n",
       "1      -14011       -9444      -27938      3  \n",
       "2      -12457       -9143      -28334      3  \n",
       "3      -11717       -8829      -27599      3  \n",
       "4      -12640       -8805      -26921      3  \n",
       "5      -13722       -9075      -27053      3  \n",
       "\n",
       "[5 rows x 29 columns]"
      ]
     },
     "execution_count": 24,
     "metadata": {},
     "output_type": "execute_result"
    }
   ],
   "source": [
    "# Correcting the filtering process for the year 2022\n",
    "\n",
    "processed_df['start_time'] = pd.to_datetime(processed_df['start_time'])\n",
    "\n",
    "processed_df_2022 = processed_df[processed_df['start_time'].dt.year == 2022]\n",
    "\n",
    "# Displaying the first few rows of the filtered DataFrame\n",
    "processed_df_2022.head()"
   ]
  },
  {
   "cell_type": "code",
   "execution_count": 29,
   "metadata": {},
   "outputs": [
    {
     "data": {
      "text/plain": [
       "array([3, 1, 0, 2, 4])"
      ]
     },
     "execution_count": 29,
     "metadata": {},
     "output_type": "execute_result"
    }
   ],
   "source": [
    "processed_df_2022.label.unique()"
   ]
  },
  {
   "cell_type": "code",
   "execution_count": 25,
   "metadata": {},
   "outputs": [
    {
     "data": {
      "text/plain": [
       "(8760, 29)"
      ]
     },
     "execution_count": 25,
     "metadata": {},
     "output_type": "execute_result"
    }
   ],
   "source": [
    "processed_df_2022.shape"
   ]
  },
  {
   "cell_type": "code",
   "execution_count": 40,
   "metadata": {},
   "outputs": [],
   "source": [
    "processed_df_2022.set_index(\"start_time\", inplace=True)"
   ]
  },
  {
   "cell_type": "code",
   "execution_count": 41,
   "metadata": {},
   "outputs": [
    {
     "data": {
      "text/html": [
       "<div>\n",
       "<style scoped>\n",
       "    .dataframe tbody tr th:only-of-type {\n",
       "        vertical-align: middle;\n",
       "    }\n",
       "\n",
       "    .dataframe tbody tr th {\n",
       "        vertical-align: top;\n",
       "    }\n",
       "\n",
       "    .dataframe thead th {\n",
       "        text-align: right;\n",
       "    }\n",
       "</style>\n",
       "<table border=\"1\" class=\"dataframe\">\n",
       "  <thead>\n",
       "    <tr style=\"text-align: right;\">\n",
       "      <th></th>\n",
       "      <th>green_energy_DE</th>\n",
       "      <th>DE_Load</th>\n",
       "      <th>green_energy_HU</th>\n",
       "      <th>HU_Load</th>\n",
       "      <th>green_energy_IT</th>\n",
       "      <th>IT_Load</th>\n",
       "      <th>green_energy_PO</th>\n",
       "      <th>PO_Load</th>\n",
       "      <th>green_energy_SP</th>\n",
       "      <th>SP_Load</th>\n",
       "      <th>...</th>\n",
       "      <th>SP_surplus</th>\n",
       "      <th>UK_surplus</th>\n",
       "      <th>DE_surplus</th>\n",
       "      <th>DK_surplus</th>\n",
       "      <th>SE_surplus</th>\n",
       "      <th>HU_surplus</th>\n",
       "      <th>IT_surplus</th>\n",
       "      <th>PO_surplus</th>\n",
       "      <th>NE_surplus</th>\n",
       "      <th>label</th>\n",
       "    </tr>\n",
       "    <tr>\n",
       "      <th>start_time</th>\n",
       "      <th></th>\n",
       "      <th></th>\n",
       "      <th></th>\n",
       "      <th></th>\n",
       "      <th></th>\n",
       "      <th></th>\n",
       "      <th></th>\n",
       "      <th></th>\n",
       "      <th></th>\n",
       "      <th></th>\n",
       "      <th></th>\n",
       "      <th></th>\n",
       "      <th></th>\n",
       "      <th></th>\n",
       "      <th></th>\n",
       "      <th></th>\n",
       "      <th></th>\n",
       "      <th></th>\n",
       "      <th></th>\n",
       "      <th></th>\n",
       "      <th></th>\n",
       "    </tr>\n",
       "  </thead>\n",
       "  <tbody>\n",
       "    <tr>\n",
       "      <th>2022-01-01 00:00:00</th>\n",
       "      <td>157373</td>\n",
       "      <td>165125</td>\n",
       "      <td>1376</td>\n",
       "      <td>16457</td>\n",
       "      <td>5745</td>\n",
       "      <td>19756</td>\n",
       "      <td>4491</td>\n",
       "      <td>13935</td>\n",
       "      <td>10827</td>\n",
       "      <td>19530</td>\n",
       "      <td>...</td>\n",
       "      <td>-8703</td>\n",
       "      <td>-1244</td>\n",
       "      <td>-7752</td>\n",
       "      <td>387</td>\n",
       "      <td>-4224</td>\n",
       "      <td>-15081</td>\n",
       "      <td>-14011</td>\n",
       "      <td>-9444</td>\n",
       "      <td>-27938</td>\n",
       "      <td>3</td>\n",
       "    </tr>\n",
       "    <tr>\n",
       "      <th>2022-01-01 01:00:00</th>\n",
       "      <td>151747</td>\n",
       "      <td>160415</td>\n",
       "      <td>1526</td>\n",
       "      <td>15426</td>\n",
       "      <td>6228</td>\n",
       "      <td>18685</td>\n",
       "      <td>4436</td>\n",
       "      <td>13579</td>\n",
       "      <td>11140</td>\n",
       "      <td>18383</td>\n",
       "      <td>...</td>\n",
       "      <td>-7243</td>\n",
       "      <td>-1131</td>\n",
       "      <td>-8668</td>\n",
       "      <td>183</td>\n",
       "      <td>-4234</td>\n",
       "      <td>-13900</td>\n",
       "      <td>-12457</td>\n",
       "      <td>-9143</td>\n",
       "      <td>-28334</td>\n",
       "      <td>3</td>\n",
       "    </tr>\n",
       "    <tr>\n",
       "      <th>2022-01-01 02:00:00</th>\n",
       "      <td>147938</td>\n",
       "      <td>158035</td>\n",
       "      <td>1560</td>\n",
       "      <td>14781</td>\n",
       "      <td>6407</td>\n",
       "      <td>18124</td>\n",
       "      <td>4568</td>\n",
       "      <td>13397</td>\n",
       "      <td>11361</td>\n",
       "      <td>17680</td>\n",
       "      <td>...</td>\n",
       "      <td>-6319</td>\n",
       "      <td>-1091</td>\n",
       "      <td>-10097</td>\n",
       "      <td>-37</td>\n",
       "      <td>-4641</td>\n",
       "      <td>-13221</td>\n",
       "      <td>-11717</td>\n",
       "      <td>-8829</td>\n",
       "      <td>-27599</td>\n",
       "      <td>3</td>\n",
       "    </tr>\n",
       "    <tr>\n",
       "      <th>2022-01-01 03:00:00</th>\n",
       "      <td>141816</td>\n",
       "      <td>157016</td>\n",
       "      <td>1287</td>\n",
       "      <td>14630</td>\n",
       "      <td>5760</td>\n",
       "      <td>18400</td>\n",
       "      <td>4559</td>\n",
       "      <td>13364</td>\n",
       "      <td>11247</td>\n",
       "      <td>17396</td>\n",
       "      <td>...</td>\n",
       "      <td>-6149</td>\n",
       "      <td>-969</td>\n",
       "      <td>-15200</td>\n",
       "      <td>-192</td>\n",
       "      <td>-4617</td>\n",
       "      <td>-13343</td>\n",
       "      <td>-12640</td>\n",
       "      <td>-8805</td>\n",
       "      <td>-26921</td>\n",
       "      <td>3</td>\n",
       "    </tr>\n",
       "    <tr>\n",
       "      <th>2022-01-01 04:00:00</th>\n",
       "      <td>131970</td>\n",
       "      <td>154552</td>\n",
       "      <td>1309</td>\n",
       "      <td>14688</td>\n",
       "      <td>5501</td>\n",
       "      <td>19223</td>\n",
       "      <td>4374</td>\n",
       "      <td>13449</td>\n",
       "      <td>10868</td>\n",
       "      <td>17544</td>\n",
       "      <td>...</td>\n",
       "      <td>-6676</td>\n",
       "      <td>-896</td>\n",
       "      <td>-22582</td>\n",
       "      <td>-406</td>\n",
       "      <td>-4885</td>\n",
       "      <td>-13379</td>\n",
       "      <td>-13722</td>\n",
       "      <td>-9075</td>\n",
       "      <td>-27053</td>\n",
       "      <td>3</td>\n",
       "    </tr>\n",
       "    <tr>\n",
       "      <th>...</th>\n",
       "      <td>...</td>\n",
       "      <td>...</td>\n",
       "      <td>...</td>\n",
       "      <td>...</td>\n",
       "      <td>...</td>\n",
       "      <td>...</td>\n",
       "      <td>...</td>\n",
       "      <td>...</td>\n",
       "      <td>...</td>\n",
       "      <td>...</td>\n",
       "      <td>...</td>\n",
       "      <td>...</td>\n",
       "      <td>...</td>\n",
       "      <td>...</td>\n",
       "      <td>...</td>\n",
       "      <td>...</td>\n",
       "      <td>...</td>\n",
       "      <td>...</td>\n",
       "      <td>...</td>\n",
       "      <td>...</td>\n",
       "      <td>...</td>\n",
       "    </tr>\n",
       "    <tr>\n",
       "      <th>2022-12-31 19:00:00</th>\n",
       "      <td>175631</td>\n",
       "      <td>184106</td>\n",
       "      <td>851</td>\n",
       "      <td>17488</td>\n",
       "      <td>4198</td>\n",
       "      <td>24809</td>\n",
       "      <td>6959</td>\n",
       "      <td>15211</td>\n",
       "      <td>67056</td>\n",
       "      <td>104484</td>\n",
       "      <td>...</td>\n",
       "      <td>-37428</td>\n",
       "      <td>824</td>\n",
       "      <td>-8475</td>\n",
       "      <td>-1948</td>\n",
       "      <td>-4261</td>\n",
       "      <td>-16637</td>\n",
       "      <td>-20611</td>\n",
       "      <td>-8252</td>\n",
       "      <td>-28405</td>\n",
       "      <td>1</td>\n",
       "    </tr>\n",
       "    <tr>\n",
       "      <th>2022-12-31 20:00:00</th>\n",
       "      <td>176499</td>\n",
       "      <td>175401</td>\n",
       "      <td>888</td>\n",
       "      <td>17075</td>\n",
       "      <td>3676</td>\n",
       "      <td>23169</td>\n",
       "      <td>6910</td>\n",
       "      <td>14641</td>\n",
       "      <td>62432</td>\n",
       "      <td>97124</td>\n",
       "      <td>...</td>\n",
       "      <td>-34692</td>\n",
       "      <td>830</td>\n",
       "      <td>1098</td>\n",
       "      <td>-1986</td>\n",
       "      <td>-4615</td>\n",
       "      <td>-16187</td>\n",
       "      <td>-19493</td>\n",
       "      <td>-7731</td>\n",
       "      <td>-26192</td>\n",
       "      <td>2</td>\n",
       "    </tr>\n",
       "    <tr>\n",
       "      <th>2022-12-31 21:00:00</th>\n",
       "      <td>175678</td>\n",
       "      <td>168830</td>\n",
       "      <td>807</td>\n",
       "      <td>16717</td>\n",
       "      <td>3641</td>\n",
       "      <td>21857</td>\n",
       "      <td>7054</td>\n",
       "      <td>13977</td>\n",
       "      <td>61096</td>\n",
       "      <td>87316</td>\n",
       "      <td>...</td>\n",
       "      <td>-26220</td>\n",
       "      <td>676</td>\n",
       "      <td>6848</td>\n",
       "      <td>-1732</td>\n",
       "      <td>-4565</td>\n",
       "      <td>-15910</td>\n",
       "      <td>-18216</td>\n",
       "      <td>-6923</td>\n",
       "      <td>-24637</td>\n",
       "      <td>2</td>\n",
       "    </tr>\n",
       "    <tr>\n",
       "      <th>2022-12-31 22:00:00</th>\n",
       "      <td>165104</td>\n",
       "      <td>161541</td>\n",
       "      <td>754</td>\n",
       "      <td>16261</td>\n",
       "      <td>3422</td>\n",
       "      <td>20555</td>\n",
       "      <td>5946</td>\n",
       "      <td>13272</td>\n",
       "      <td>55252</td>\n",
       "      <td>82064</td>\n",
       "      <td>...</td>\n",
       "      <td>-26812</td>\n",
       "      <td>489</td>\n",
       "      <td>3563</td>\n",
       "      <td>-1198</td>\n",
       "      <td>-4966</td>\n",
       "      <td>-15507</td>\n",
       "      <td>-17133</td>\n",
       "      <td>-7326</td>\n",
       "      <td>-24476</td>\n",
       "      <td>2</td>\n",
       "    </tr>\n",
       "    <tr>\n",
       "      <th>2022-12-31 23:00:00</th>\n",
       "      <td>119208</td>\n",
       "      <td>115263</td>\n",
       "      <td>571</td>\n",
       "      <td>11754</td>\n",
       "      <td>0</td>\n",
       "      <td>0</td>\n",
       "      <td>0</td>\n",
       "      <td>0</td>\n",
       "      <td>37696</td>\n",
       "      <td>59888</td>\n",
       "      <td>...</td>\n",
       "      <td>-22192</td>\n",
       "      <td>146</td>\n",
       "      <td>3945</td>\n",
       "      <td>0</td>\n",
       "      <td>0</td>\n",
       "      <td>-11183</td>\n",
       "      <td>0</td>\n",
       "      <td>0</td>\n",
       "      <td>-20434</td>\n",
       "      <td>2</td>\n",
       "    </tr>\n",
       "  </tbody>\n",
       "</table>\n",
       "<p>8760 rows × 28 columns</p>\n",
       "</div>"
      ],
      "text/plain": [
       "                     green_energy_DE  DE_Load  green_energy_HU  HU_Load  \\\n",
       "start_time                                                                \n",
       "2022-01-01 00:00:00           157373   165125             1376    16457   \n",
       "2022-01-01 01:00:00           151747   160415             1526    15426   \n",
       "2022-01-01 02:00:00           147938   158035             1560    14781   \n",
       "2022-01-01 03:00:00           141816   157016             1287    14630   \n",
       "2022-01-01 04:00:00           131970   154552             1309    14688   \n",
       "...                              ...      ...              ...      ...   \n",
       "2022-12-31 19:00:00           175631   184106              851    17488   \n",
       "2022-12-31 20:00:00           176499   175401              888    17075   \n",
       "2022-12-31 21:00:00           175678   168830              807    16717   \n",
       "2022-12-31 22:00:00           165104   161541              754    16261   \n",
       "2022-12-31 23:00:00           119208   115263              571    11754   \n",
       "\n",
       "                     green_energy_IT  IT_Load  green_energy_PO  PO_Load  \\\n",
       "start_time                                                                \n",
       "2022-01-01 00:00:00             5745    19756             4491    13935   \n",
       "2022-01-01 01:00:00             6228    18685             4436    13579   \n",
       "2022-01-01 02:00:00             6407    18124             4568    13397   \n",
       "2022-01-01 03:00:00             5760    18400             4559    13364   \n",
       "2022-01-01 04:00:00             5501    19223             4374    13449   \n",
       "...                              ...      ...              ...      ...   \n",
       "2022-12-31 19:00:00             4198    24809             6959    15211   \n",
       "2022-12-31 20:00:00             3676    23169             6910    14641   \n",
       "2022-12-31 21:00:00             3641    21857             7054    13977   \n",
       "2022-12-31 22:00:00             3422    20555             5946    13272   \n",
       "2022-12-31 23:00:00                0        0                0        0   \n",
       "\n",
       "                     green_energy_SP  SP_Load  ...  SP_surplus  UK_surplus  \\\n",
       "start_time                                     ...                           \n",
       "2022-01-01 00:00:00            10827    19530  ...       -8703       -1244   \n",
       "2022-01-01 01:00:00            11140    18383  ...       -7243       -1131   \n",
       "2022-01-01 02:00:00            11361    17680  ...       -6319       -1091   \n",
       "2022-01-01 03:00:00            11247    17396  ...       -6149        -969   \n",
       "2022-01-01 04:00:00            10868    17544  ...       -6676        -896   \n",
       "...                              ...      ...  ...         ...         ...   \n",
       "2022-12-31 19:00:00            67056   104484  ...      -37428         824   \n",
       "2022-12-31 20:00:00            62432    97124  ...      -34692         830   \n",
       "2022-12-31 21:00:00            61096    87316  ...      -26220         676   \n",
       "2022-12-31 22:00:00            55252    82064  ...      -26812         489   \n",
       "2022-12-31 23:00:00            37696    59888  ...      -22192         146   \n",
       "\n",
       "                     DE_surplus  DK_surplus  SE_surplus  HU_surplus  \\\n",
       "start_time                                                            \n",
       "2022-01-01 00:00:00       -7752         387       -4224      -15081   \n",
       "2022-01-01 01:00:00       -8668         183       -4234      -13900   \n",
       "2022-01-01 02:00:00      -10097         -37       -4641      -13221   \n",
       "2022-01-01 03:00:00      -15200        -192       -4617      -13343   \n",
       "2022-01-01 04:00:00      -22582        -406       -4885      -13379   \n",
       "...                         ...         ...         ...         ...   \n",
       "2022-12-31 19:00:00       -8475       -1948       -4261      -16637   \n",
       "2022-12-31 20:00:00        1098       -1986       -4615      -16187   \n",
       "2022-12-31 21:00:00        6848       -1732       -4565      -15910   \n",
       "2022-12-31 22:00:00        3563       -1198       -4966      -15507   \n",
       "2022-12-31 23:00:00        3945           0           0      -11183   \n",
       "\n",
       "                     IT_surplus  PO_surplus  NE_surplus  label  \n",
       "start_time                                                      \n",
       "2022-01-01 00:00:00      -14011       -9444      -27938      3  \n",
       "2022-01-01 01:00:00      -12457       -9143      -28334      3  \n",
       "2022-01-01 02:00:00      -11717       -8829      -27599      3  \n",
       "2022-01-01 03:00:00      -12640       -8805      -26921      3  \n",
       "2022-01-01 04:00:00      -13722       -9075      -27053      3  \n",
       "...                         ...         ...         ...    ...  \n",
       "2022-12-31 19:00:00      -20611       -8252      -28405      1  \n",
       "2022-12-31 20:00:00      -19493       -7731      -26192      2  \n",
       "2022-12-31 21:00:00      -18216       -6923      -24637      2  \n",
       "2022-12-31 22:00:00      -17133       -7326      -24476      2  \n",
       "2022-12-31 23:00:00           0           0      -20434      2  \n",
       "\n",
       "[8760 rows x 28 columns]"
      ]
     },
     "execution_count": 41,
     "metadata": {},
     "output_type": "execute_result"
    }
   ],
   "source": [
    "processed_df_2022"
   ]
  },
  {
   "cell_type": "code",
   "execution_count": 43,
   "metadata": {},
   "outputs": [],
   "source": [
    "processed_df_2022.to_csv(\"data/final_processed_2022.csv\")"
   ]
  },
  {
   "cell_type": "code",
   "execution_count": 44,
   "metadata": {},
   "outputs": [
    {
     "name": "stdout",
     "output_type": "stream",
     "text": [
      "<class 'pandas.core.frame.DataFrame'>\n",
      "DatetimeIndex: 8760 entries, 2022-01-01 00:00:00 to 2022-12-31 23:00:00\n",
      "Data columns (total 28 columns):\n",
      " #   Column           Non-Null Count  Dtype\n",
      "---  ------           --------------  -----\n",
      " 0   green_energy_DE  8760 non-null   int64\n",
      " 1   DE_Load          8760 non-null   int64\n",
      " 2   green_energy_HU  8760 non-null   int64\n",
      " 3   HU_Load          8760 non-null   int64\n",
      " 4   green_energy_IT  8760 non-null   int64\n",
      " 5   IT_Load          8760 non-null   int64\n",
      " 6   green_energy_PO  8760 non-null   int64\n",
      " 7   PO_Load          8760 non-null   int64\n",
      " 8   green_energy_SP  8760 non-null   int64\n",
      " 9   SP_Load          8760 non-null   int64\n",
      " 10  green_energy_UK  8760 non-null   int64\n",
      " 11  UK_Load          8760 non-null   int64\n",
      " 12  green_energy_DK  8760 non-null   int64\n",
      " 13  DK_Load          8760 non-null   int64\n",
      " 14  green_energy_SE  8760 non-null   int64\n",
      " 15  SE_Load          8760 non-null   int64\n",
      " 16  green_energy_NE  8760 non-null   int64\n",
      " 17  NE_Load          8760 non-null   int64\n",
      " 18  SP_surplus       8760 non-null   int64\n",
      " 19  UK_surplus       8760 non-null   int64\n",
      " 20  DE_surplus       8760 non-null   int64\n",
      " 21  DK_surplus       8760 non-null   int64\n",
      " 22  SE_surplus       8760 non-null   int64\n",
      " 23  HU_surplus       8760 non-null   int64\n",
      " 24  IT_surplus       8760 non-null   int64\n",
      " 25  PO_surplus       8760 non-null   int64\n",
      " 26  NE_surplus       8760 non-null   int64\n",
      " 27  label            8760 non-null   int64\n",
      "dtypes: int64(28)\n",
      "memory usage: 1.9 MB\n"
     ]
    }
   ],
   "source": [
    "processed_df_2022.info()"
   ]
  },
  {
   "cell_type": "code",
   "execution_count": 45,
   "metadata": {},
   "outputs": [
    {
     "data": {
      "text/plain": [
       "Index(['green_energy_DE', 'DE_Load', 'green_energy_HU', 'HU_Load',\n",
       "       'green_energy_IT', 'IT_Load', 'green_energy_PO', 'PO_Load',\n",
       "       'green_energy_SP', 'SP_Load', 'green_energy_UK', 'UK_Load',\n",
       "       'green_energy_DK', 'DK_Load', 'green_energy_SE', 'SE_Load',\n",
       "       'green_energy_NE', 'NE_Load', 'SP_surplus', 'UK_surplus', 'DE_surplus',\n",
       "       'DK_surplus', 'SE_surplus', 'HU_surplus', 'IT_surplus', 'PO_surplus',\n",
       "       'NE_surplus', 'label'],\n",
       "      dtype='object')"
      ]
     },
     "execution_count": 45,
     "metadata": {},
     "output_type": "execute_result"
    }
   ],
   "source": [
    "processed_df_2022.columns"
   ]
  },
  {
   "cell_type": "code",
   "execution_count": 48,
   "metadata": {},
   "outputs": [],
   "source": [
    "processed_df_2022 = pd.read_csv(\"/workspaces/SE-Europe-Data_Challenge/data/final_processed_2022.csv\", parse_dates=['start_time'], index_col='start_time')"
   ]
  },
  {
   "cell_type": "code",
   "execution_count": 49,
   "metadata": {},
   "outputs": [
    {
     "data": {
      "text/plain": [
       "(8760, 28)"
      ]
     },
     "execution_count": 49,
     "metadata": {},
     "output_type": "execute_result"
    }
   ],
   "source": [
    "processed_df_2022.shape"
   ]
  },
  {
   "cell_type": "markdown",
   "metadata": {},
   "source": [
    "## Training and Testing Split"
   ]
  },
  {
   "cell_type": "code",
   "execution_count": 50,
   "metadata": {},
   "outputs": [
    {
     "data": {
      "text/plain": [
       "{'Total Data Points': 8760,\n",
       " 'Training Data Points': 7008,\n",
       " 'Testing Data Points': 1752,\n",
       " 'Split Index': 7008}"
      ]
     },
     "execution_count": 50,
     "metadata": {},
     "output_type": "execute_result"
    }
   ],
   "source": [
    "# Splitting the dataset into training and testing sets\n",
    "\n",
    "# Since this is time-series data, we'll perform a chronological split (not random)\n",
    "# We'll use the last 20% of the data as the test set\n",
    "\n",
    "split_index = int(len(processed_df_2022) * 0.8)\n",
    "train_df = processed_df_2022.iloc[:split_index]\n",
    "test_df = processed_df_2022.iloc[split_index:]\n",
    "\n",
    "# Verifying the split\n",
    "train_test_split_info = {\n",
    "    \"Total Data Points\": len(processed_df_2022),\n",
    "    \"Training Data Points\": len(train_df),\n",
    "    \"Testing Data Points\": len(test_df),\n",
    "    \"Split Index\": split_index\n",
    "}\n",
    "\n",
    "train_test_split_info"
   ]
  },
  {
   "cell_type": "code",
   "execution_count": 69,
   "metadata": {},
   "outputs": [],
   "source": [
    "train_df.to_csv(\"data/train.csv\")\n"
   ]
  },
  {
   "cell_type": "code",
   "execution_count": 70,
   "metadata": {},
   "outputs": [],
   "source": [
    "test_df.to_csv(\"data/test.csv\")"
   ]
  },
  {
   "cell_type": "markdown",
   "metadata": {},
   "source": [
    "## Training the Model"
   ]
  },
  {
   "cell_type": "code",
   "execution_count": 51,
   "metadata": {},
   "outputs": [],
   "source": [
    "from sklearn.ensemble import RandomForestClassifier\n",
    "from sklearn.metrics import f1_score\n",
    "\n",
    "X_train = train_df.drop('label', axis=1)\n",
    "y_train = train_df['label']\n",
    "\n",
    "X_test = test_df.drop('label', axis=1)\n",
    "y_test = test_df['label']"
   ]
  },
  {
   "cell_type": "code",
   "execution_count": 53,
   "metadata": {},
   "outputs": [
    {
     "data": {
      "text/html": [
       "<style>#sk-container-id-1 {color: black;background-color: white;}#sk-container-id-1 pre{padding: 0;}#sk-container-id-1 div.sk-toggleable {background-color: white;}#sk-container-id-1 label.sk-toggleable__label {cursor: pointer;display: block;width: 100%;margin-bottom: 0;padding: 0.3em;box-sizing: border-box;text-align: center;}#sk-container-id-1 label.sk-toggleable__label-arrow:before {content: \"▸\";float: left;margin-right: 0.25em;color: #696969;}#sk-container-id-1 label.sk-toggleable__label-arrow:hover:before {color: black;}#sk-container-id-1 div.sk-estimator:hover label.sk-toggleable__label-arrow:before {color: black;}#sk-container-id-1 div.sk-toggleable__content {max-height: 0;max-width: 0;overflow: hidden;text-align: left;background-color: #f0f8ff;}#sk-container-id-1 div.sk-toggleable__content pre {margin: 0.2em;color: black;border-radius: 0.25em;background-color: #f0f8ff;}#sk-container-id-1 input.sk-toggleable__control:checked~div.sk-toggleable__content {max-height: 200px;max-width: 100%;overflow: auto;}#sk-container-id-1 input.sk-toggleable__control:checked~label.sk-toggleable__label-arrow:before {content: \"▾\";}#sk-container-id-1 div.sk-estimator input.sk-toggleable__control:checked~label.sk-toggleable__label {background-color: #d4ebff;}#sk-container-id-1 div.sk-label input.sk-toggleable__control:checked~label.sk-toggleable__label {background-color: #d4ebff;}#sk-container-id-1 input.sk-hidden--visually {border: 0;clip: rect(1px 1px 1px 1px);clip: rect(1px, 1px, 1px, 1px);height: 1px;margin: -1px;overflow: hidden;padding: 0;position: absolute;width: 1px;}#sk-container-id-1 div.sk-estimator {font-family: monospace;background-color: #f0f8ff;border: 1px dotted black;border-radius: 0.25em;box-sizing: border-box;margin-bottom: 0.5em;}#sk-container-id-1 div.sk-estimator:hover {background-color: #d4ebff;}#sk-container-id-1 div.sk-parallel-item::after {content: \"\";width: 100%;border-bottom: 1px solid gray;flex-grow: 1;}#sk-container-id-1 div.sk-label:hover label.sk-toggleable__label {background-color: #d4ebff;}#sk-container-id-1 div.sk-serial::before {content: \"\";position: absolute;border-left: 1px solid gray;box-sizing: border-box;top: 0;bottom: 0;left: 50%;z-index: 0;}#sk-container-id-1 div.sk-serial {display: flex;flex-direction: column;align-items: center;background-color: white;padding-right: 0.2em;padding-left: 0.2em;position: relative;}#sk-container-id-1 div.sk-item {position: relative;z-index: 1;}#sk-container-id-1 div.sk-parallel {display: flex;align-items: stretch;justify-content: center;background-color: white;position: relative;}#sk-container-id-1 div.sk-item::before, #sk-container-id-1 div.sk-parallel-item::before {content: \"\";position: absolute;border-left: 1px solid gray;box-sizing: border-box;top: 0;bottom: 0;left: 50%;z-index: -1;}#sk-container-id-1 div.sk-parallel-item {display: flex;flex-direction: column;z-index: 1;position: relative;background-color: white;}#sk-container-id-1 div.sk-parallel-item:first-child::after {align-self: flex-end;width: 50%;}#sk-container-id-1 div.sk-parallel-item:last-child::after {align-self: flex-start;width: 50%;}#sk-container-id-1 div.sk-parallel-item:only-child::after {width: 0;}#sk-container-id-1 div.sk-dashed-wrapped {border: 1px dashed gray;margin: 0 0.4em 0.5em 0.4em;box-sizing: border-box;padding-bottom: 0.4em;background-color: white;}#sk-container-id-1 div.sk-label label {font-family: monospace;font-weight: bold;display: inline-block;line-height: 1.2em;}#sk-container-id-1 div.sk-label-container {text-align: center;}#sk-container-id-1 div.sk-container {/* jupyter's `normalize.less` sets `[hidden] { display: none; }` but bootstrap.min.css set `[hidden] { display: none !important; }` so we also need the `!important` here to be able to override the default hidden behavior on the sphinx rendered scikit-learn.org. See: https://github.com/scikit-learn/scikit-learn/issues/21755 */display: inline-block !important;position: relative;}#sk-container-id-1 div.sk-text-repr-fallback {display: none;}</style><div id=\"sk-container-id-1\" class=\"sk-top-container\"><div class=\"sk-text-repr-fallback\"><pre>RandomForestClassifier(random_state=42)</pre><b>In a Jupyter environment, please rerun this cell to show the HTML representation or trust the notebook. <br />On GitHub, the HTML representation is unable to render, please try loading this page with nbviewer.org.</b></div><div class=\"sk-container\" hidden><div class=\"sk-item\"><div class=\"sk-estimator sk-toggleable\"><input class=\"sk-toggleable__control sk-hidden--visually\" id=\"sk-estimator-id-1\" type=\"checkbox\" checked><label for=\"sk-estimator-id-1\" class=\"sk-toggleable__label sk-toggleable__label-arrow\">RandomForestClassifier</label><div class=\"sk-toggleable__content\"><pre>RandomForestClassifier(random_state=42)</pre></div></div></div></div></div>"
      ],
      "text/plain": [
       "RandomForestClassifier(random_state=42)"
      ]
     },
     "execution_count": 53,
     "metadata": {},
     "output_type": "execute_result"
    }
   ],
   "source": [
    "# Initialize and train the RandomForestClassifier\n",
    "model = RandomForestClassifier(random_state=42)\n",
    "model.fit(X_train, y_train)"
   ]
  },
  {
   "cell_type": "code",
   "execution_count": 54,
   "metadata": {},
   "outputs": [],
   "source": [
    "# Predict on the test set\n",
    "predictions = model.predict(X_test)"
   ]
  },
  {
   "cell_type": "code",
   "execution_count": 55,
   "metadata": {},
   "outputs": [
    {
     "data": {
      "text/plain": [
       "0.5491424425426029"
      ]
     },
     "execution_count": 55,
     "metadata": {},
     "output_type": "execute_result"
    }
   ],
   "source": [
    "# Calculate the F1 score\n",
    "f1_score_value = f1_score(y_test, predictions, average='macro')\n",
    "f1_score_value"
   ]
  },
  {
   "cell_type": "markdown",
   "metadata": {},
   "source": [
    "### Saving the Model"
   ]
  },
  {
   "cell_type": "code",
   "execution_count": 68,
   "metadata": {},
   "outputs": [],
   "source": [
    "model_file_path = 'models/random_forest_model.pkl'\n",
    "\n",
    "# Save the model to a pickle file\n",
    "with open(model_file_path, 'wb') as file:\n",
    "    pickle.dump(model, file)\n"
   ]
  },
  {
   "cell_type": "markdown",
   "metadata": {},
   "source": [
    "### Saving the Predictions"
   ]
  },
  {
   "cell_type": "code",
   "execution_count": 59,
   "metadata": {},
   "outputs": [
    {
     "data": {
      "text/plain": [
       "'predictions/predictions.json'"
      ]
     },
     "execution_count": 59,
     "metadata": {},
     "output_type": "execute_result"
    }
   ],
   "source": [
    "# Adjusting the format of the JSON to include a \"target\" property\n",
    "\n",
    "# Creating a dictionary with 'target' as the key and the predictions as the value\n",
    "predictions_json = {'target': {str(index): int(prediction) for index, prediction in enumerate(predictions)}}\n",
    "\n",
    "# Convert the formatted predictions to JSON\n",
    "predictions_json = json.dumps(predictions_json)\n",
    "\n",
    "# Saving the formatted JSON to a file\n",
    "json_file_path = 'predictions/predictions.json'\n",
    "with open(json_file_path, 'w') as file:\n",
    "    file.write(predictions_json)\n",
    "\n",
    "json_file_path\n"
   ]
  },
  {
   "cell_type": "code",
   "execution_count": 61,
   "metadata": {},
   "outputs": [
    {
     "data": {
      "text/plain": [
       "1752"
      ]
     },
     "execution_count": 61,
     "metadata": {},
     "output_type": "execute_result"
    }
   ],
   "source": [
    "with open(json_file_path, 'r') as file:\n",
    "    predictions_json = json.load(file)\n",
    "\n",
    "# Getting the length of the predictions list\n",
    "predictions_length = len(predictions_json[\"target\"])\n",
    "predictions_length"
   ]
  },
  {
   "cell_type": "code",
   "execution_count": 66,
   "metadata": {},
   "outputs": [],
   "source": [
    "# def basic_exploration(file_path):\n",
    "#     df = pd.read_csv(file_path)\n",
    "#     print(f\"\"\"\\nThe column names in the data are: \\n{df.columns}\\n{'x' * 60}\n",
    "#           The datatypes of the columns are: \\n{df.dtypes}\n",
    "#           {'x' * 60}\n",
    "#           The minimum value of StartTime: {df['StartTime'].min()}\n",
    "#           The maximum value of StartTime: {df['StartTime'].max()}\n",
    "#           The minimum value of EndTime: {df['EndTime'].min()}\n",
    "#           The maximum value of EndTime: {df['EndTime'].max()}\n",
    "#           The minimum value of energy generated:  {df['quantity'].min()}\n",
    "#           The maximum value of energy generated: {df['quantity'].max()}\n",
    "#           \"\"\")"
   ]
  },
  {
   "cell_type": "code",
   "execution_count": 67,
   "metadata": {},
   "outputs": [],
   "source": [
    "# basic_exploration(\"/workspaces/SE-Europe-Data_Challenge/data/processed/2022_to_2023/gen_UK_B19_modified.csv\")"
   ]
  }
 ],
 "metadata": {
  "kernelspec": {
   "display_name": "Python 3",
   "language": "python",
   "name": "python3"
  },
  "language_info": {
   "codemirror_mode": {
    "name": "ipython",
    "version": 3
   },
   "file_extension": ".py",
   "mimetype": "text/x-python",
   "name": "python",
   "nbconvert_exporter": "python",
   "pygments_lexer": "ipython3",
   "version": "3.10.8"
  }
 },
 "nbformat": 4,
 "nbformat_minor": 2
}
