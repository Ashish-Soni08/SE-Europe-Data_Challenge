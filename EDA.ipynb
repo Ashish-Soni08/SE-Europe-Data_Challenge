{
 "cells": [
  {
   "cell_type": "markdown",
   "metadata": {},
   "source": [
    "# Imports"
   ]
  },
  {
   "cell_type": "code",
   "execution_count": 50,
   "metadata": {},
   "outputs": [],
   "source": [
    "import matplotlib.pyplot as plt\n",
    "import numpy as np\n",
    "import pandas as pd\n",
    "from utilsforecast.plotting import plot_series\n",
    "from datetime import datetime as dt"
   ]
  },
  {
   "cell_type": "code",
   "execution_count": 2,
   "metadata": {},
   "outputs": [],
   "source": [
    "pd.plotting.register_matplotlib_converters()\n",
    "plt.rc(\"figure\", figsize=(10, 8))\n",
    "plt.rc(\"font\", size=10)"
   ]
  },
  {
   "cell_type": "code",
   "execution_count": 51,
   "metadata": {},
   "outputs": [],
   "source": [
    "df = pd.read_csv(\"/workspaces/SE-Europe-Data_Challenge/data/raw/2022_to_2023/gen_DE_B01.csv\")"
   ]
  },
  {
   "cell_type": "code",
   "execution_count": 52,
   "metadata": {},
   "outputs": [],
   "source": [
    "df.drop(['EndTime', 'UnitName', 'AreaID', 'PsrType'], axis=1, inplace=True)\n",
    "df.rename(columns={'StartTime': 'start_time', 'quantity': 'energy_generated'}, inplace=True)"
   ]
  },
  {
   "cell_type": "code",
   "execution_count": 53,
   "metadata": {},
   "outputs": [],
   "source": [
    "df.sort_values(['start_time'], inplace=True)"
   ]
  },
  {
   "cell_type": "code",
   "execution_count": 54,
   "metadata": {},
   "outputs": [
    {
     "data": {
      "text/plain": [
       "pandas.core.series.Series"
      ]
     },
     "execution_count": 54,
     "metadata": {},
     "output_type": "execute_result"
    }
   ],
   "source": [
    "type(df['start_time'])"
   ]
  },
  {
   "cell_type": "code",
   "execution_count": 55,
   "metadata": {},
   "outputs": [
    {
     "data": {
      "text/html": [
       "<div>\n",
       "<style scoped>\n",
       "    .dataframe tbody tr th:only-of-type {\n",
       "        vertical-align: middle;\n",
       "    }\n",
       "\n",
       "    .dataframe tbody tr th {\n",
       "        vertical-align: top;\n",
       "    }\n",
       "\n",
       "    .dataframe thead th {\n",
       "        text-align: right;\n",
       "    }\n",
       "</style>\n",
       "<table border=\"1\" class=\"dataframe\">\n",
       "  <thead>\n",
       "    <tr style=\"text-align: right;\">\n",
       "      <th></th>\n",
       "      <th>start_time</th>\n",
       "      <th>energy_generated</th>\n",
       "    </tr>\n",
       "  </thead>\n",
       "  <tbody>\n",
       "    <tr>\n",
       "      <th>0</th>\n",
       "      <td>2021-12-31T23:45+00:00Z</td>\n",
       "      <td>4333</td>\n",
       "    </tr>\n",
       "    <tr>\n",
       "      <th>1</th>\n",
       "      <td>2022-01-01T00:00+00:00Z</td>\n",
       "      <td>4325</td>\n",
       "    </tr>\n",
       "    <tr>\n",
       "      <th>2</th>\n",
       "      <td>2022-01-01T00:15+00:00Z</td>\n",
       "      <td>4319</td>\n",
       "    </tr>\n",
       "    <tr>\n",
       "      <th>3</th>\n",
       "      <td>2022-01-01T00:30+00:00Z</td>\n",
       "      <td>4323</td>\n",
       "    </tr>\n",
       "    <tr>\n",
       "      <th>4</th>\n",
       "      <td>2022-01-01T00:45+00:00Z</td>\n",
       "      <td>4328</td>\n",
       "    </tr>\n",
       "  </tbody>\n",
       "</table>\n",
       "</div>"
      ],
      "text/plain": [
       "                start_time  energy_generated\n",
       "0  2021-12-31T23:45+00:00Z              4333\n",
       "1  2022-01-01T00:00+00:00Z              4325\n",
       "2  2022-01-01T00:15+00:00Z              4319\n",
       "3  2022-01-01T00:30+00:00Z              4323\n",
       "4  2022-01-01T00:45+00:00Z              4328"
      ]
     },
     "execution_count": 55,
     "metadata": {},
     "output_type": "execute_result"
    }
   ],
   "source": [
    "df.head()"
   ]
  },
  {
   "cell_type": "code",
   "execution_count": 45,
   "metadata": {},
   "outputs": [],
   "source": [
    "\n",
    "d1 = dt.strptime(\"2021-12-31T23:45+00:00Z\",\"%Y-%m-%dT%H:%M%zZ\")"
   ]
  },
  {
   "cell_type": "code",
   "execution_count": 46,
   "metadata": {},
   "outputs": [
    {
     "data": {
      "text/plain": [
       "datetime.datetime(2021, 12, 31, 23, 45, tzinfo=datetime.timezone.utc)"
      ]
     },
     "execution_count": 46,
     "metadata": {},
     "output_type": "execute_result"
    }
   ],
   "source": [
    "d1"
   ]
  },
  {
   "cell_type": "code",
   "execution_count": 47,
   "metadata": {},
   "outputs": [],
   "source": [
    "new_format = \"%Y-%m-%d %H:%M:%S\""
   ]
  },
  {
   "cell_type": "code",
   "execution_count": 48,
   "metadata": {},
   "outputs": [
    {
     "data": {
      "text/plain": [
       "'2021-12-31 23:45:00'"
      ]
     },
     "execution_count": 48,
     "metadata": {},
     "output_type": "execute_result"
    }
   ],
   "source": [
    "d1.strftime(new_format)"
   ]
  },
  {
   "cell_type": "code",
   "execution_count": 49,
   "metadata": {},
   "outputs": [
    {
     "data": {
      "text/plain": [
       "datetime.datetime"
      ]
     },
     "execution_count": 49,
     "metadata": {},
     "output_type": "execute_result"
    }
   ],
   "source": [
    "type(d1)"
   ]
  },
  {
   "cell_type": "code",
   "execution_count": 56,
   "metadata": {},
   "outputs": [],
   "source": [
    "# Define a function to convert and reformat the date strings\n",
    "def parse_and_reformat(date_string):\n",
    "    # Parse the original date-time string\n",
    "    datetime_obj = dt.strptime(date_string, \"%Y-%m-%dT%H:%M%zZ\")\n",
    "    # Reformat to the new format\n",
    "    return datetime_obj.strftime(new_format)"
   ]
  },
  {
   "cell_type": "code",
   "execution_count": 57,
   "metadata": {},
   "outputs": [],
   "source": [
    "# Apply the function to the start_time column\n",
    "df['start_time'] = df['start_time'].apply(parse_and_reformat)"
   ]
  },
  {
   "cell_type": "code",
   "execution_count": 58,
   "metadata": {},
   "outputs": [
    {
     "data": {
      "text/plain": [
       "start_time          object\n",
       "energy_generated     int64\n",
       "dtype: object"
      ]
     },
     "execution_count": 58,
     "metadata": {},
     "output_type": "execute_result"
    }
   ],
   "source": [
    "df.dtypes"
   ]
  },
  {
   "cell_type": "code",
   "execution_count": 59,
   "metadata": {},
   "outputs": [
    {
     "data": {
      "text/html": [
       "<div>\n",
       "<style scoped>\n",
       "    .dataframe tbody tr th:only-of-type {\n",
       "        vertical-align: middle;\n",
       "    }\n",
       "\n",
       "    .dataframe tbody tr th {\n",
       "        vertical-align: top;\n",
       "    }\n",
       "\n",
       "    .dataframe thead th {\n",
       "        text-align: right;\n",
       "    }\n",
       "</style>\n",
       "<table border=\"1\" class=\"dataframe\">\n",
       "  <thead>\n",
       "    <tr style=\"text-align: right;\">\n",
       "      <th></th>\n",
       "      <th>start_time</th>\n",
       "      <th>energy_generated</th>\n",
       "    </tr>\n",
       "  </thead>\n",
       "  <tbody>\n",
       "    <tr>\n",
       "      <th>0</th>\n",
       "      <td>2021-12-31 23:45:00</td>\n",
       "      <td>4333</td>\n",
       "    </tr>\n",
       "    <tr>\n",
       "      <th>1</th>\n",
       "      <td>2022-01-01 00:00:00</td>\n",
       "      <td>4325</td>\n",
       "    </tr>\n",
       "    <tr>\n",
       "      <th>2</th>\n",
       "      <td>2022-01-01 00:15:00</td>\n",
       "      <td>4319</td>\n",
       "    </tr>\n",
       "    <tr>\n",
       "      <th>3</th>\n",
       "      <td>2022-01-01 00:30:00</td>\n",
       "      <td>4323</td>\n",
       "    </tr>\n",
       "    <tr>\n",
       "      <th>4</th>\n",
       "      <td>2022-01-01 00:45:00</td>\n",
       "      <td>4328</td>\n",
       "    </tr>\n",
       "  </tbody>\n",
       "</table>\n",
       "</div>"
      ],
      "text/plain": [
       "            start_time  energy_generated\n",
       "0  2021-12-31 23:45:00              4333\n",
       "1  2022-01-01 00:00:00              4325\n",
       "2  2022-01-01 00:15:00              4319\n",
       "3  2022-01-01 00:30:00              4323\n",
       "4  2022-01-01 00:45:00              4328"
      ]
     },
     "execution_count": 59,
     "metadata": {},
     "output_type": "execute_result"
    }
   ],
   "source": [
    "df.head()"
   ]
  },
  {
   "cell_type": "code",
   "execution_count": 22,
   "metadata": {},
   "outputs": [
    {
     "data": {
      "text/plain": [
       "str"
      ]
     },
     "execution_count": 22,
     "metadata": {},
     "output_type": "execute_result"
    }
   ],
   "source": [
    "type(d_new)"
   ]
  },
  {
   "cell_type": "code",
   "execution_count": 23,
   "metadata": {},
   "outputs": [],
   "source": [
    "d_final = pd.to_datetime(d_new)"
   ]
  },
  {
   "cell_type": "code",
   "execution_count": 60,
   "metadata": {},
   "outputs": [],
   "source": [
    "df['start_time'] = pd.to_datetime(df['start_time'])"
   ]
  },
  {
   "cell_type": "code",
   "execution_count": 62,
   "metadata": {},
   "outputs": [
    {
     "data": {
      "text/plain": [
       "start_time          datetime64[ns]\n",
       "energy_generated             int64\n",
       "dtype: object"
      ]
     },
     "execution_count": 62,
     "metadata": {},
     "output_type": "execute_result"
    }
   ],
   "source": [
    "df.dtypes"
   ]
  },
  {
   "cell_type": "code",
   "execution_count": 61,
   "metadata": {},
   "outputs": [
    {
     "data": {
      "text/html": [
       "<div>\n",
       "<style scoped>\n",
       "    .dataframe tbody tr th:only-of-type {\n",
       "        vertical-align: middle;\n",
       "    }\n",
       "\n",
       "    .dataframe tbody tr th {\n",
       "        vertical-align: top;\n",
       "    }\n",
       "\n",
       "    .dataframe thead th {\n",
       "        text-align: right;\n",
       "    }\n",
       "</style>\n",
       "<table border=\"1\" class=\"dataframe\">\n",
       "  <thead>\n",
       "    <tr style=\"text-align: right;\">\n",
       "      <th></th>\n",
       "      <th>start_time</th>\n",
       "      <th>energy_generated</th>\n",
       "    </tr>\n",
       "  </thead>\n",
       "  <tbody>\n",
       "    <tr>\n",
       "      <th>0</th>\n",
       "      <td>2021-12-31 23:45:00</td>\n",
       "      <td>4333</td>\n",
       "    </tr>\n",
       "    <tr>\n",
       "      <th>1</th>\n",
       "      <td>2022-01-01 00:00:00</td>\n",
       "      <td>4325</td>\n",
       "    </tr>\n",
       "    <tr>\n",
       "      <th>2</th>\n",
       "      <td>2022-01-01 00:15:00</td>\n",
       "      <td>4319</td>\n",
       "    </tr>\n",
       "    <tr>\n",
       "      <th>3</th>\n",
       "      <td>2022-01-01 00:30:00</td>\n",
       "      <td>4323</td>\n",
       "    </tr>\n",
       "    <tr>\n",
       "      <th>4</th>\n",
       "      <td>2022-01-01 00:45:00</td>\n",
       "      <td>4328</td>\n",
       "    </tr>\n",
       "  </tbody>\n",
       "</table>\n",
       "</div>"
      ],
      "text/plain": [
       "           start_time  energy_generated\n",
       "0 2021-12-31 23:45:00              4333\n",
       "1 2022-01-01 00:00:00              4325\n",
       "2 2022-01-01 00:15:00              4319\n",
       "3 2022-01-01 00:30:00              4323\n",
       "4 2022-01-01 00:45:00              4328"
      ]
     },
     "execution_count": 61,
     "metadata": {},
     "output_type": "execute_result"
    }
   ],
   "source": [
    "df.head()"
   ]
  },
  {
   "cell_type": "code",
   "execution_count": 124,
   "metadata": {},
   "outputs": [],
   "source": [
    "df['StartTime'] = pd.to_datetime(df['StartTime'])\n",
    "df['EndTime'] = pd.to_datetime(df['EndTime'])"
   ]
  },
  {
   "cell_type": "code",
   "execution_count": 126,
   "metadata": {},
   "outputs": [],
   "source": [
    "df.set_index('StartTime', inplace=True)"
   ]
  },
  {
   "cell_type": "code",
   "execution_count": 129,
   "metadata": {},
   "outputs": [
    {
     "data": {
      "text/plain": [
       "Index(['EndTime', 'AreaID', 'UnitName', 'PsrType', 'quantity',\n",
       "       'time_interval'],\n",
       "      dtype='object')"
      ]
     },
     "execution_count": 129,
     "metadata": {},
     "output_type": "execute_result"
    }
   ],
   "source": [
    "df.columns"
   ]
  },
  {
   "cell_type": "code",
   "execution_count": 130,
   "metadata": {},
   "outputs": [],
   "source": [
    "df.drop(['EndTime', 'AreaID', 'UnitName', 'PsrType',\n",
    "       'time_interval'], inplace=True, axis=1)"
   ]
  },
  {
   "cell_type": "code",
   "execution_count": 131,
   "metadata": {},
   "outputs": [],
   "source": [
    "hourly_data = df.resample('1H').sum()"
   ]
  },
  {
   "cell_type": "code",
   "execution_count": 132,
   "metadata": {},
   "outputs": [
    {
     "data": {
      "text/html": [
       "<div>\n",
       "<style scoped>\n",
       "    .dataframe tbody tr th:only-of-type {\n",
       "        vertical-align: middle;\n",
       "    }\n",
       "\n",
       "    .dataframe tbody tr th {\n",
       "        vertical-align: top;\n",
       "    }\n",
       "\n",
       "    .dataframe thead th {\n",
       "        text-align: right;\n",
       "    }\n",
       "</style>\n",
       "<table border=\"1\" class=\"dataframe\">\n",
       "  <thead>\n",
       "    <tr style=\"text-align: right;\">\n",
       "      <th></th>\n",
       "      <th>quantity</th>\n",
       "    </tr>\n",
       "    <tr>\n",
       "      <th>StartTime</th>\n",
       "      <th></th>\n",
       "    </tr>\n",
       "  </thead>\n",
       "  <tbody>\n",
       "    <tr>\n",
       "      <th>2021-12-31 23:00:00+00:00</th>\n",
       "      <td>4333</td>\n",
       "    </tr>\n",
       "    <tr>\n",
       "      <th>2022-01-01 00:00:00+00:00</th>\n",
       "      <td>17295</td>\n",
       "    </tr>\n",
       "    <tr>\n",
       "      <th>2022-01-01 01:00:00+00:00</th>\n",
       "      <td>17322</td>\n",
       "    </tr>\n",
       "    <tr>\n",
       "      <th>2022-01-01 02:00:00+00:00</th>\n",
       "      <td>17343</td>\n",
       "    </tr>\n",
       "    <tr>\n",
       "      <th>2022-01-01 03:00:00+00:00</th>\n",
       "      <td>17354</td>\n",
       "    </tr>\n",
       "    <tr>\n",
       "      <th>...</th>\n",
       "      <td>...</td>\n",
       "    </tr>\n",
       "    <tr>\n",
       "      <th>2022-12-31 19:00:00+00:00</th>\n",
       "      <td>18411</td>\n",
       "    </tr>\n",
       "    <tr>\n",
       "      <th>2022-12-31 20:00:00+00:00</th>\n",
       "      <td>18058</td>\n",
       "    </tr>\n",
       "    <tr>\n",
       "      <th>2022-12-31 21:00:00+00:00</th>\n",
       "      <td>17879</td>\n",
       "    </tr>\n",
       "    <tr>\n",
       "      <th>2022-12-31 22:00:00+00:00</th>\n",
       "      <td>17702</td>\n",
       "    </tr>\n",
       "    <tr>\n",
       "      <th>2022-12-31 23:00:00+00:00</th>\n",
       "      <td>13083</td>\n",
       "    </tr>\n",
       "  </tbody>\n",
       "</table>\n",
       "<p>8761 rows × 1 columns</p>\n",
       "</div>"
      ],
      "text/plain": [
       "                           quantity\n",
       "StartTime                          \n",
       "2021-12-31 23:00:00+00:00      4333\n",
       "2022-01-01 00:00:00+00:00     17295\n",
       "2022-01-01 01:00:00+00:00     17322\n",
       "2022-01-01 02:00:00+00:00     17343\n",
       "2022-01-01 03:00:00+00:00     17354\n",
       "...                             ...\n",
       "2022-12-31 19:00:00+00:00     18411\n",
       "2022-12-31 20:00:00+00:00     18058\n",
       "2022-12-31 21:00:00+00:00     17879\n",
       "2022-12-31 22:00:00+00:00     17702\n",
       "2022-12-31 23:00:00+00:00     13083\n",
       "\n",
       "[8761 rows x 1 columns]"
      ]
     },
     "execution_count": 132,
     "metadata": {},
     "output_type": "execute_result"
    }
   ],
   "source": [
    "hourly_data"
   ]
  },
  {
   "cell_type": "code",
   "execution_count": 115,
   "metadata": {},
   "outputs": [],
   "source": [
    "# Removing 'Z' and parsing the StartTime and EndTime columns\n",
    "df['StartTime'] = df['StartTime'].str[:-1]  # Remove 'Z'\n",
    "df['EndTime'] = df['EndTime'].str[:-1]  # Remove 'Z'"
   ]
  },
  {
   "cell_type": "code",
   "execution_count": null,
   "metadata": {},
   "outputs": [],
   "source": []
  },
  {
   "cell_type": "code",
   "execution_count": 116,
   "metadata": {},
   "outputs": [],
   "source": [
    "# Remove '+00:00' and convert to datetime\n",
    "df['StartTime'] = pd.to_datetime(df['StartTime'].str[:-6])\n",
    "df['EndTime'] = pd.to_datetime(df['EndTime'].str[:-6])"
   ]
  },
  {
   "cell_type": "code",
   "execution_count": 118,
   "metadata": {},
   "outputs": [
    {
     "data": {
      "text/html": [
       "<div>\n",
       "<style scoped>\n",
       "    .dataframe tbody tr th:only-of-type {\n",
       "        vertical-align: middle;\n",
       "    }\n",
       "\n",
       "    .dataframe tbody tr th {\n",
       "        vertical-align: top;\n",
       "    }\n",
       "\n",
       "    .dataframe thead th {\n",
       "        text-align: right;\n",
       "    }\n",
       "</style>\n",
       "<table border=\"1\" class=\"dataframe\">\n",
       "  <thead>\n",
       "    <tr style=\"text-align: right;\">\n",
       "      <th></th>\n",
       "      <th>StartTime</th>\n",
       "      <th>EndTime</th>\n",
       "      <th>AreaID</th>\n",
       "      <th>UnitName</th>\n",
       "      <th>PsrType</th>\n",
       "      <th>quantity</th>\n",
       "    </tr>\n",
       "  </thead>\n",
       "  <tbody>\n",
       "    <tr>\n",
       "      <th>0</th>\n",
       "      <td>2022-01-26 23:30:00</td>\n",
       "      <td>2022-01-27 00:00:00</td>\n",
       "      <td>10Y1001A1001A92E</td>\n",
       "      <td>MAW</td>\n",
       "      <td>B19</td>\n",
       "      <td>433</td>\n",
       "    </tr>\n",
       "    <tr>\n",
       "      <th>1</th>\n",
       "      <td>2022-01-27 00:00:00</td>\n",
       "      <td>2022-01-27 00:30:00</td>\n",
       "      <td>10Y1001A1001A92E</td>\n",
       "      <td>MAW</td>\n",
       "      <td>B19</td>\n",
       "      <td>472</td>\n",
       "    </tr>\n",
       "    <tr>\n",
       "      <th>2</th>\n",
       "      <td>2022-01-27 00:30:00</td>\n",
       "      <td>2022-01-27 01:00:00</td>\n",
       "      <td>10Y1001A1001A92E</td>\n",
       "      <td>MAW</td>\n",
       "      <td>B19</td>\n",
       "      <td>549</td>\n",
       "    </tr>\n",
       "    <tr>\n",
       "      <th>3</th>\n",
       "      <td>2022-01-27 01:00:00</td>\n",
       "      <td>2022-01-27 01:30:00</td>\n",
       "      <td>10Y1001A1001A92E</td>\n",
       "      <td>MAW</td>\n",
       "      <td>B19</td>\n",
       "      <td>520</td>\n",
       "    </tr>\n",
       "    <tr>\n",
       "      <th>4</th>\n",
       "      <td>2022-01-27 01:30:00</td>\n",
       "      <td>2022-01-27 02:00:00</td>\n",
       "      <td>10Y1001A1001A92E</td>\n",
       "      <td>MAW</td>\n",
       "      <td>B19</td>\n",
       "      <td>407</td>\n",
       "    </tr>\n",
       "    <tr>\n",
       "      <th>5</th>\n",
       "      <td>2022-01-27 02:00:00</td>\n",
       "      <td>2022-01-27 02:30:00</td>\n",
       "      <td>10Y1001A1001A92E</td>\n",
       "      <td>MAW</td>\n",
       "      <td>B19</td>\n",
       "      <td>412</td>\n",
       "    </tr>\n",
       "    <tr>\n",
       "      <th>6</th>\n",
       "      <td>2022-01-27 02:30:00</td>\n",
       "      <td>2022-01-27 03:00:00</td>\n",
       "      <td>10Y1001A1001A92E</td>\n",
       "      <td>MAW</td>\n",
       "      <td>B19</td>\n",
       "      <td>261</td>\n",
       "    </tr>\n",
       "    <tr>\n",
       "      <th>7</th>\n",
       "      <td>2022-01-27 03:00:00</td>\n",
       "      <td>2022-01-27 03:30:00</td>\n",
       "      <td>10Y1001A1001A92E</td>\n",
       "      <td>MAW</td>\n",
       "      <td>B19</td>\n",
       "      <td>165</td>\n",
       "    </tr>\n",
       "    <tr>\n",
       "      <th>8</th>\n",
       "      <td>2022-01-27 03:30:00</td>\n",
       "      <td>2022-01-27 04:00:00</td>\n",
       "      <td>10Y1001A1001A92E</td>\n",
       "      <td>MAW</td>\n",
       "      <td>B19</td>\n",
       "      <td>261</td>\n",
       "    </tr>\n",
       "    <tr>\n",
       "      <th>9</th>\n",
       "      <td>2022-01-27 04:00:00</td>\n",
       "      <td>2022-01-27 04:30:00</td>\n",
       "      <td>10Y1001A1001A92E</td>\n",
       "      <td>MAW</td>\n",
       "      <td>B19</td>\n",
       "      <td>273</td>\n",
       "    </tr>\n",
       "  </tbody>\n",
       "</table>\n",
       "</div>"
      ],
      "text/plain": [
       "            StartTime             EndTime            AreaID UnitName PsrType  \\\n",
       "0 2022-01-26 23:30:00 2022-01-27 00:00:00  10Y1001A1001A92E      MAW     B19   \n",
       "1 2022-01-27 00:00:00 2022-01-27 00:30:00  10Y1001A1001A92E      MAW     B19   \n",
       "2 2022-01-27 00:30:00 2022-01-27 01:00:00  10Y1001A1001A92E      MAW     B19   \n",
       "3 2022-01-27 01:00:00 2022-01-27 01:30:00  10Y1001A1001A92E      MAW     B19   \n",
       "4 2022-01-27 01:30:00 2022-01-27 02:00:00  10Y1001A1001A92E      MAW     B19   \n",
       "5 2022-01-27 02:00:00 2022-01-27 02:30:00  10Y1001A1001A92E      MAW     B19   \n",
       "6 2022-01-27 02:30:00 2022-01-27 03:00:00  10Y1001A1001A92E      MAW     B19   \n",
       "7 2022-01-27 03:00:00 2022-01-27 03:30:00  10Y1001A1001A92E      MAW     B19   \n",
       "8 2022-01-27 03:30:00 2022-01-27 04:00:00  10Y1001A1001A92E      MAW     B19   \n",
       "9 2022-01-27 04:00:00 2022-01-27 04:30:00  10Y1001A1001A92E      MAW     B19   \n",
       "\n",
       "   quantity  \n",
       "0       433  \n",
       "1       472  \n",
       "2       549  \n",
       "3       520  \n",
       "4       407  \n",
       "5       412  \n",
       "6       261  \n",
       "7       165  \n",
       "8       261  \n",
       "9       273  "
      ]
     },
     "execution_count": 118,
     "metadata": {},
     "output_type": "execute_result"
    }
   ],
   "source": [
    "df.head(10)"
   ]
  },
  {
   "cell_type": "code",
   "execution_count": 98,
   "metadata": {},
   "outputs": [],
   "source": [
    "df = df.sort_values(['StartTime']).reset_index(drop=True)"
   ]
  },
  {
   "cell_type": "code",
   "execution_count": 113,
   "metadata": {},
   "outputs": [
    {
     "data": {
      "text/html": [
       "<div>\n",
       "<style scoped>\n",
       "    .dataframe tbody tr th:only-of-type {\n",
       "        vertical-align: middle;\n",
       "    }\n",
       "\n",
       "    .dataframe tbody tr th {\n",
       "        vertical-align: top;\n",
       "    }\n",
       "\n",
       "    .dataframe thead th {\n",
       "        text-align: right;\n",
       "    }\n",
       "</style>\n",
       "<table border=\"1\" class=\"dataframe\">\n",
       "  <thead>\n",
       "    <tr style=\"text-align: right;\">\n",
       "      <th></th>\n",
       "      <th>quantity</th>\n",
       "    </tr>\n",
       "    <tr>\n",
       "      <th>StartTime</th>\n",
       "      <th></th>\n",
       "    </tr>\n",
       "  </thead>\n",
       "  <tbody>\n",
       "    <tr>\n",
       "      <th>2022-01-26 23:30:00</th>\n",
       "      <td>433</td>\n",
       "    </tr>\n",
       "    <tr>\n",
       "      <th>2022-01-26 23:30:00</th>\n",
       "      <td>432</td>\n",
       "    </tr>\n",
       "    <tr>\n",
       "      <th>2022-01-27 00:00:00</th>\n",
       "      <td>472</td>\n",
       "    </tr>\n",
       "    <tr>\n",
       "      <th>2022-01-27 00:00:00</th>\n",
       "      <td>472</td>\n",
       "    </tr>\n",
       "    <tr>\n",
       "      <th>2022-01-27 00:30:00</th>\n",
       "      <td>549</td>\n",
       "    </tr>\n",
       "    <tr>\n",
       "      <th>2022-01-27 00:30:00</th>\n",
       "      <td>549</td>\n",
       "    </tr>\n",
       "    <tr>\n",
       "      <th>2022-01-27 01:00:00</th>\n",
       "      <td>520</td>\n",
       "    </tr>\n",
       "    <tr>\n",
       "      <th>2022-01-27 01:00:00</th>\n",
       "      <td>519</td>\n",
       "    </tr>\n",
       "    <tr>\n",
       "      <th>2022-01-27 01:30:00</th>\n",
       "      <td>407</td>\n",
       "    </tr>\n",
       "    <tr>\n",
       "      <th>2022-01-27 01:30:00</th>\n",
       "      <td>406</td>\n",
       "    </tr>\n",
       "  </tbody>\n",
       "</table>\n",
       "</div>"
      ],
      "text/plain": [
       "                     quantity\n",
       "StartTime                    \n",
       "2022-01-26 23:30:00       433\n",
       "2022-01-26 23:30:00       432\n",
       "2022-01-27 00:00:00       472\n",
       "2022-01-27 00:00:00       472\n",
       "2022-01-27 00:30:00       549\n",
       "2022-01-27 00:30:00       549\n",
       "2022-01-27 01:00:00       520\n",
       "2022-01-27 01:00:00       519\n",
       "2022-01-27 01:30:00       407\n",
       "2022-01-27 01:30:00       406"
      ]
     },
     "execution_count": 113,
     "metadata": {},
     "output_type": "execute_result"
    }
   ],
   "source": [
    "df.head(10)"
   ]
  },
  {
   "cell_type": "code",
   "execution_count": 105,
   "metadata": {},
   "outputs": [],
   "source": [
    "df.drop(['EndTime', 'UnitName', 'AreaID', 'PsrType'], axis=1, inplace=True)"
   ]
  },
  {
   "cell_type": "code",
   "execution_count": 109,
   "metadata": {},
   "outputs": [],
   "source": [
    "# df.set_index('StartTime', inplace=True)"
   ]
  },
  {
   "cell_type": "code",
   "execution_count": 110,
   "metadata": {},
   "outputs": [],
   "source": [
    "resampled_df = df.resample('H').sum()"
   ]
  },
  {
   "cell_type": "code",
   "execution_count": 112,
   "metadata": {},
   "outputs": [
    {
     "data": {
      "text/html": [
       "<div>\n",
       "<style scoped>\n",
       "    .dataframe tbody tr th:only-of-type {\n",
       "        vertical-align: middle;\n",
       "    }\n",
       "\n",
       "    .dataframe tbody tr th {\n",
       "        vertical-align: top;\n",
       "    }\n",
       "\n",
       "    .dataframe thead th {\n",
       "        text-align: right;\n",
       "    }\n",
       "</style>\n",
       "<table border=\"1\" class=\"dataframe\">\n",
       "  <thead>\n",
       "    <tr style=\"text-align: right;\">\n",
       "      <th></th>\n",
       "      <th>quantity</th>\n",
       "    </tr>\n",
       "    <tr>\n",
       "      <th>StartTime</th>\n",
       "      <th></th>\n",
       "    </tr>\n",
       "  </thead>\n",
       "  <tbody>\n",
       "    <tr>\n",
       "      <th>2022-01-26 23:30:00</th>\n",
       "      <td>433</td>\n",
       "    </tr>\n",
       "    <tr>\n",
       "      <th>2022-01-26 23:30:00</th>\n",
       "      <td>432</td>\n",
       "    </tr>\n",
       "    <tr>\n",
       "      <th>2022-01-27 00:00:00</th>\n",
       "      <td>472</td>\n",
       "    </tr>\n",
       "    <tr>\n",
       "      <th>2022-01-27 00:00:00</th>\n",
       "      <td>472</td>\n",
       "    </tr>\n",
       "    <tr>\n",
       "      <th>2022-01-27 00:30:00</th>\n",
       "      <td>549</td>\n",
       "    </tr>\n",
       "  </tbody>\n",
       "</table>\n",
       "</div>"
      ],
      "text/plain": [
       "                     quantity\n",
       "StartTime                    \n",
       "2022-01-26 23:30:00       433\n",
       "2022-01-26 23:30:00       432\n",
       "2022-01-27 00:00:00       472\n",
       "2022-01-27 00:00:00       472\n",
       "2022-01-27 00:30:00       549"
      ]
     },
     "execution_count": 112,
     "metadata": {},
     "output_type": "execute_result"
    }
   ],
   "source": [
    "df.head()"
   ]
  },
  {
   "cell_type": "code",
   "execution_count": 111,
   "metadata": {},
   "outputs": [
    {
     "data": {
      "text/html": [
       "<div>\n",
       "<style scoped>\n",
       "    .dataframe tbody tr th:only-of-type {\n",
       "        vertical-align: middle;\n",
       "    }\n",
       "\n",
       "    .dataframe tbody tr th {\n",
       "        vertical-align: top;\n",
       "    }\n",
       "\n",
       "    .dataframe thead th {\n",
       "        text-align: right;\n",
       "    }\n",
       "</style>\n",
       "<table border=\"1\" class=\"dataframe\">\n",
       "  <thead>\n",
       "    <tr style=\"text-align: right;\">\n",
       "      <th></th>\n",
       "      <th>quantity</th>\n",
       "    </tr>\n",
       "    <tr>\n",
       "      <th>StartTime</th>\n",
       "      <th></th>\n",
       "    </tr>\n",
       "  </thead>\n",
       "  <tbody>\n",
       "    <tr>\n",
       "      <th>2022-01-26 23:00:00</th>\n",
       "      <td>865</td>\n",
       "    </tr>\n",
       "    <tr>\n",
       "      <th>2022-01-27 00:00:00</th>\n",
       "      <td>2042</td>\n",
       "    </tr>\n",
       "    <tr>\n",
       "      <th>2022-01-27 01:00:00</th>\n",
       "      <td>1852</td>\n",
       "    </tr>\n",
       "    <tr>\n",
       "      <th>2022-01-27 02:00:00</th>\n",
       "      <td>1344</td>\n",
       "    </tr>\n",
       "    <tr>\n",
       "      <th>2022-01-27 03:00:00</th>\n",
       "      <td>851</td>\n",
       "    </tr>\n",
       "  </tbody>\n",
       "</table>\n",
       "</div>"
      ],
      "text/plain": [
       "                     quantity\n",
       "StartTime                    \n",
       "2022-01-26 23:00:00       865\n",
       "2022-01-27 00:00:00      2042\n",
       "2022-01-27 01:00:00      1852\n",
       "2022-01-27 02:00:00      1344\n",
       "2022-01-27 03:00:00       851"
      ]
     },
     "execution_count": 111,
     "metadata": {},
     "output_type": "execute_result"
    }
   ],
   "source": [
    "resampled_df.head()"
   ]
  },
  {
   "cell_type": "code",
   "execution_count": 83,
   "metadata": {},
   "outputs": [],
   "source": [
    "resampled_quantity = df['quantity'].resample('H').sum()\n"
   ]
  },
  {
   "cell_type": "code",
   "execution_count": 84,
   "metadata": {},
   "outputs": [],
   "source": [
    "resampled_start_time = df['StartTime'].resample('H').first()  # or use .last()"
   ]
  },
  {
   "cell_type": "code",
   "execution_count": 85,
   "metadata": {},
   "outputs": [],
   "source": [
    "resampled_df = pd.DataFrame({\n",
    "    'quantity_sum': resampled_quantity,\n",
    "    'StartTime_first': resampled_start_time\n",
    "})"
   ]
  },
  {
   "cell_type": "code",
   "execution_count": 86,
   "metadata": {},
   "outputs": [
    {
     "data": {
      "text/html": [
       "<div>\n",
       "<style scoped>\n",
       "    .dataframe tbody tr th:only-of-type {\n",
       "        vertical-align: middle;\n",
       "    }\n",
       "\n",
       "    .dataframe tbody tr th {\n",
       "        vertical-align: top;\n",
       "    }\n",
       "\n",
       "    .dataframe thead th {\n",
       "        text-align: right;\n",
       "    }\n",
       "</style>\n",
       "<table border=\"1\" class=\"dataframe\">\n",
       "  <thead>\n",
       "    <tr style=\"text-align: right;\">\n",
       "      <th></th>\n",
       "      <th>quantity_sum</th>\n",
       "      <th>StartTime_first</th>\n",
       "    </tr>\n",
       "    <tr>\n",
       "      <th>EndTime</th>\n",
       "      <th></th>\n",
       "      <th></th>\n",
       "    </tr>\n",
       "  </thead>\n",
       "  <tbody>\n",
       "    <tr>\n",
       "      <th>2022-01-27 00:00:00</th>\n",
       "      <td>1809</td>\n",
       "      <td>2022-01-26 23:30:00</td>\n",
       "    </tr>\n",
       "    <tr>\n",
       "      <th>2022-01-27 01:00:00</th>\n",
       "      <td>2137</td>\n",
       "      <td>2022-01-27 00:30:00</td>\n",
       "    </tr>\n",
       "    <tr>\n",
       "      <th>2022-01-27 02:00:00</th>\n",
       "      <td>1636</td>\n",
       "      <td>2022-01-27 01:30:00</td>\n",
       "    </tr>\n",
       "    <tr>\n",
       "      <th>2022-01-27 03:00:00</th>\n",
       "      <td>851</td>\n",
       "      <td>2022-01-27 02:30:00</td>\n",
       "    </tr>\n",
       "    <tr>\n",
       "      <th>2022-01-27 04:00:00</th>\n",
       "      <td>1068</td>\n",
       "      <td>2022-01-27 03:30:00</td>\n",
       "    </tr>\n",
       "    <tr>\n",
       "      <th>...</th>\n",
       "      <td>...</td>\n",
       "      <td>...</td>\n",
       "    </tr>\n",
       "    <tr>\n",
       "      <th>2022-12-31 19:00:00</th>\n",
       "      <td>838</td>\n",
       "      <td>2022-12-31 18:30:00</td>\n",
       "    </tr>\n",
       "    <tr>\n",
       "      <th>2022-12-31 20:00:00</th>\n",
       "      <td>822</td>\n",
       "      <td>2022-12-31 19:30:00</td>\n",
       "    </tr>\n",
       "    <tr>\n",
       "      <th>2022-12-31 21:00:00</th>\n",
       "      <td>778</td>\n",
       "      <td>2022-12-31 20:30:00</td>\n",
       "    </tr>\n",
       "    <tr>\n",
       "      <th>2022-12-31 22:00:00</th>\n",
       "      <td>575</td>\n",
       "      <td>2022-12-31 21:30:00</td>\n",
       "    </tr>\n",
       "    <tr>\n",
       "      <th>2022-12-31 23:00:00</th>\n",
       "      <td>370</td>\n",
       "      <td>2022-12-31 22:30:00</td>\n",
       "    </tr>\n",
       "  </tbody>\n",
       "</table>\n",
       "<p>8136 rows × 2 columns</p>\n",
       "</div>"
      ],
      "text/plain": [
       "                     quantity_sum     StartTime_first\n",
       "EndTime                                              \n",
       "2022-01-27 00:00:00          1809 2022-01-26 23:30:00\n",
       "2022-01-27 01:00:00          2137 2022-01-27 00:30:00\n",
       "2022-01-27 02:00:00          1636 2022-01-27 01:30:00\n",
       "2022-01-27 03:00:00           851 2022-01-27 02:30:00\n",
       "2022-01-27 04:00:00          1068 2022-01-27 03:30:00\n",
       "...                           ...                 ...\n",
       "2022-12-31 19:00:00           838 2022-12-31 18:30:00\n",
       "2022-12-31 20:00:00           822 2022-12-31 19:30:00\n",
       "2022-12-31 21:00:00           778 2022-12-31 20:30:00\n",
       "2022-12-31 22:00:00           575 2022-12-31 21:30:00\n",
       "2022-12-31 23:00:00           370 2022-12-31 22:30:00\n",
       "\n",
       "[8136 rows x 2 columns]"
      ]
     },
     "execution_count": 86,
     "metadata": {},
     "output_type": "execute_result"
    }
   ],
   "source": [
    "resampled_df"
   ]
  },
  {
   "cell_type": "code",
   "execution_count": 79,
   "metadata": {},
   "outputs": [],
   "source": [
    "\n",
    "\n",
    "\n",
    "# Calculating the time interval\n",
    "df['time_interval'] = df['EndTime'] - df['StartTime']"
   ]
  },
  {
   "cell_type": "code",
   "execution_count": 80,
   "metadata": {},
   "outputs": [
    {
     "data": {
      "text/html": [
       "<div>\n",
       "<style scoped>\n",
       "    .dataframe tbody tr th:only-of-type {\n",
       "        vertical-align: middle;\n",
       "    }\n",
       "\n",
       "    .dataframe tbody tr th {\n",
       "        vertical-align: top;\n",
       "    }\n",
       "\n",
       "    .dataframe thead th {\n",
       "        text-align: right;\n",
       "    }\n",
       "</style>\n",
       "<table border=\"1\" class=\"dataframe\">\n",
       "  <thead>\n",
       "    <tr style=\"text-align: right;\">\n",
       "      <th></th>\n",
       "      <th>StartTime</th>\n",
       "      <th>EndTime</th>\n",
       "      <th>AreaID</th>\n",
       "      <th>UnitName</th>\n",
       "      <th>PsrType</th>\n",
       "      <th>quantity</th>\n",
       "      <th>time_interval</th>\n",
       "    </tr>\n",
       "  </thead>\n",
       "  <tbody>\n",
       "    <tr>\n",
       "      <th>0</th>\n",
       "      <td>2022-01-26 23:30:00</td>\n",
       "      <td>2022-01-27 00:00:00</td>\n",
       "      <td>10Y1001A1001A92E</td>\n",
       "      <td>MAW</td>\n",
       "      <td>B19</td>\n",
       "      <td>433</td>\n",
       "      <td>0 days 00:30:00</td>\n",
       "    </tr>\n",
       "    <tr>\n",
       "      <th>1</th>\n",
       "      <td>2022-01-27 00:00:00</td>\n",
       "      <td>2022-01-27 00:30:00</td>\n",
       "      <td>10Y1001A1001A92E</td>\n",
       "      <td>MAW</td>\n",
       "      <td>B19</td>\n",
       "      <td>472</td>\n",
       "      <td>0 days 00:30:00</td>\n",
       "    </tr>\n",
       "    <tr>\n",
       "      <th>2</th>\n",
       "      <td>2022-01-27 00:30:00</td>\n",
       "      <td>2022-01-27 01:00:00</td>\n",
       "      <td>10Y1001A1001A92E</td>\n",
       "      <td>MAW</td>\n",
       "      <td>B19</td>\n",
       "      <td>549</td>\n",
       "      <td>0 days 00:30:00</td>\n",
       "    </tr>\n",
       "    <tr>\n",
       "      <th>3</th>\n",
       "      <td>2022-01-27 01:00:00</td>\n",
       "      <td>2022-01-27 01:30:00</td>\n",
       "      <td>10Y1001A1001A92E</td>\n",
       "      <td>MAW</td>\n",
       "      <td>B19</td>\n",
       "      <td>520</td>\n",
       "      <td>0 days 00:30:00</td>\n",
       "    </tr>\n",
       "    <tr>\n",
       "      <th>4</th>\n",
       "      <td>2022-01-27 01:30:00</td>\n",
       "      <td>2022-01-27 02:00:00</td>\n",
       "      <td>10Y1001A1001A92E</td>\n",
       "      <td>MAW</td>\n",
       "      <td>B19</td>\n",
       "      <td>407</td>\n",
       "      <td>0 days 00:30:00</td>\n",
       "    </tr>\n",
       "  </tbody>\n",
       "</table>\n",
       "</div>"
      ],
      "text/plain": [
       "            StartTime             EndTime            AreaID UnitName PsrType  \\\n",
       "0 2022-01-26 23:30:00 2022-01-27 00:00:00  10Y1001A1001A92E      MAW     B19   \n",
       "1 2022-01-27 00:00:00 2022-01-27 00:30:00  10Y1001A1001A92E      MAW     B19   \n",
       "2 2022-01-27 00:30:00 2022-01-27 01:00:00  10Y1001A1001A92E      MAW     B19   \n",
       "3 2022-01-27 01:00:00 2022-01-27 01:30:00  10Y1001A1001A92E      MAW     B19   \n",
       "4 2022-01-27 01:30:00 2022-01-27 02:00:00  10Y1001A1001A92E      MAW     B19   \n",
       "\n",
       "   quantity   time_interval  \n",
       "0       433 0 days 00:30:00  \n",
       "1       472 0 days 00:30:00  \n",
       "2       549 0 days 00:30:00  \n",
       "3       520 0 days 00:30:00  \n",
       "4       407 0 days 00:30:00  "
      ]
     },
     "execution_count": 80,
     "metadata": {},
     "output_type": "execute_result"
    }
   ],
   "source": [
    "df.head()"
   ]
  },
  {
   "cell_type": "code",
   "execution_count": 18,
   "metadata": {},
   "outputs": [],
   "source": [
    "df.drop(['EndTime', 'AreaID', 'UnitName', 'PsrType', 'time_interval'], axis=1, inplace=True)"
   ]
  },
  {
   "cell_type": "code",
   "execution_count": 19,
   "metadata": {},
   "outputs": [
    {
     "data": {
      "text/plain": [
       "Index(['StartTime', 'quantity'], dtype='object')"
      ]
     },
     "execution_count": 19,
     "metadata": {},
     "output_type": "execute_result"
    }
   ],
   "source": [
    "df.columns"
   ]
  },
  {
   "cell_type": "code",
   "execution_count": 20,
   "metadata": {},
   "outputs": [],
   "source": [
    "df.columns = ['ds', 'y']"
   ]
  },
  {
   "cell_type": "code",
   "execution_count": 21,
   "metadata": {},
   "outputs": [],
   "source": [
    "df.insert(0, 'unique_id', 1)"
   ]
  },
  {
   "cell_type": "code",
   "execution_count": 22,
   "metadata": {},
   "outputs": [],
   "source": []
  },
  {
   "cell_type": "code",
   "execution_count": 23,
   "metadata": {},
   "outputs": [
    {
     "data": {
      "text/plain": [
       "(12644, 3)"
      ]
     },
     "execution_count": 23,
     "metadata": {},
     "output_type": "execute_result"
    }
   ],
   "source": [
    "df.shape"
   ]
  },
  {
   "cell_type": "code",
   "execution_count": 25,
   "metadata": {},
   "outputs": [
    {
     "data": {
      "text/html": [
       "<div>\n",
       "<style scoped>\n",
       "    .dataframe tbody tr th:only-of-type {\n",
       "        vertical-align: middle;\n",
       "    }\n",
       "\n",
       "    .dataframe tbody tr th {\n",
       "        vertical-align: top;\n",
       "    }\n",
       "\n",
       "    .dataframe thead th {\n",
       "        text-align: right;\n",
       "    }\n",
       "</style>\n",
       "<table border=\"1\" class=\"dataframe\">\n",
       "  <thead>\n",
       "    <tr style=\"text-align: right;\">\n",
       "      <th></th>\n",
       "      <th>unique_id</th>\n",
       "      <th>ds</th>\n",
       "      <th>y</th>\n",
       "    </tr>\n",
       "  </thead>\n",
       "  <tbody>\n",
       "    <tr>\n",
       "      <th>0</th>\n",
       "      <td>1</td>\n",
       "      <td>2022-01-26 23:30:00+00:00</td>\n",
       "      <td>433</td>\n",
       "    </tr>\n",
       "    <tr>\n",
       "      <th>1</th>\n",
       "      <td>1</td>\n",
       "      <td>2022-01-26 23:30:00+00:00</td>\n",
       "      <td>432</td>\n",
       "    </tr>\n",
       "    <tr>\n",
       "      <th>2</th>\n",
       "      <td>1</td>\n",
       "      <td>2022-01-27 00:00:00+00:00</td>\n",
       "      <td>472</td>\n",
       "    </tr>\n",
       "    <tr>\n",
       "      <th>3</th>\n",
       "      <td>1</td>\n",
       "      <td>2022-01-27 00:00:00+00:00</td>\n",
       "      <td>472</td>\n",
       "    </tr>\n",
       "    <tr>\n",
       "      <th>4</th>\n",
       "      <td>1</td>\n",
       "      <td>2022-01-27 00:30:00+00:00</td>\n",
       "      <td>549</td>\n",
       "    </tr>\n",
       "  </tbody>\n",
       "</table>\n",
       "</div>"
      ],
      "text/plain": [
       "   unique_id                        ds    y\n",
       "0          1 2022-01-26 23:30:00+00:00  433\n",
       "1          1 2022-01-26 23:30:00+00:00  432\n",
       "2          1 2022-01-27 00:00:00+00:00  472\n",
       "3          1 2022-01-27 00:00:00+00:00  472\n",
       "4          1 2022-01-27 00:30:00+00:00  549"
      ]
     },
     "execution_count": 25,
     "metadata": {},
     "output_type": "execute_result"
    }
   ],
   "source": [
    "df.head()"
   ]
  },
  {
   "cell_type": "code",
   "execution_count": 28,
   "metadata": {},
   "outputs": [
    {
     "data": {
      "text/plain": [
       "unique_id                  int64\n",
       "ds           datetime64[ns, UTC]\n",
       "y                          int64\n",
       "dtype: object"
      ]
     },
     "execution_count": 28,
     "metadata": {},
     "output_type": "execute_result"
    }
   ],
   "source": [
    "df.dtypes"
   ]
  },
  {
   "cell_type": "code",
   "execution_count": 33,
   "metadata": {},
   "outputs": [
    {
     "data": {
      "text/html": [
       "<div>\n",
       "<style scoped>\n",
       "    .dataframe tbody tr th:only-of-type {\n",
       "        vertical-align: middle;\n",
       "    }\n",
       "\n",
       "    .dataframe tbody tr th {\n",
       "        vertical-align: top;\n",
       "    }\n",
       "\n",
       "    .dataframe thead th {\n",
       "        text-align: right;\n",
       "    }\n",
       "</style>\n",
       "<table border=\"1\" class=\"dataframe\">\n",
       "  <thead>\n",
       "    <tr style=\"text-align: right;\">\n",
       "      <th></th>\n",
       "      <th>unique_id</th>\n",
       "      <th>ds</th>\n",
       "      <th>y</th>\n",
       "    </tr>\n",
       "  </thead>\n",
       "  <tbody>\n",
       "    <tr>\n",
       "      <th>0</th>\n",
       "      <td>1</td>\n",
       "      <td>2022-01-26 23:30:00+00:00</td>\n",
       "      <td>433</td>\n",
       "    </tr>\n",
       "    <tr>\n",
       "      <th>1</th>\n",
       "      <td>1</td>\n",
       "      <td>2022-01-26 23:30:00+00:00</td>\n",
       "      <td>432</td>\n",
       "    </tr>\n",
       "    <tr>\n",
       "      <th>2</th>\n",
       "      <td>1</td>\n",
       "      <td>2022-01-27 00:00:00+00:00</td>\n",
       "      <td>472</td>\n",
       "    </tr>\n",
       "    <tr>\n",
       "      <th>3</th>\n",
       "      <td>1</td>\n",
       "      <td>2022-01-27 00:00:00+00:00</td>\n",
       "      <td>472</td>\n",
       "    </tr>\n",
       "    <tr>\n",
       "      <th>4</th>\n",
       "      <td>1</td>\n",
       "      <td>2022-01-27 00:30:00+00:00</td>\n",
       "      <td>549</td>\n",
       "    </tr>\n",
       "  </tbody>\n",
       "</table>\n",
       "</div>"
      ],
      "text/plain": [
       "   unique_id                        ds    y\n",
       "0          1 2022-01-26 23:30:00+00:00  433\n",
       "1          1 2022-01-26 23:30:00+00:00  432\n",
       "2          1 2022-01-27 00:00:00+00:00  472\n",
       "3          1 2022-01-27 00:00:00+00:00  472\n",
       "4          1 2022-01-27 00:30:00+00:00  549"
      ]
     },
     "execution_count": 33,
     "metadata": {},
     "output_type": "execute_result"
    }
   ],
   "source": [
    "df.head()"
   ]
  },
  {
   "cell_type": "code",
   "execution_count": 29,
   "metadata": {},
   "outputs": [],
   "source": [
    "df['ds'] = pd.to_datetime(df['ds'])"
   ]
  },
  {
   "cell_type": "code",
   "execution_count": 30,
   "metadata": {},
   "outputs": [],
   "source": [
    "df = df.sort_values(['unique_id', 'ds']).reset_index(drop=True)"
   ]
  },
  {
   "cell_type": "code",
   "execution_count": 31,
   "metadata": {},
   "outputs": [
    {
     "data": {
      "text/plain": [
       "unique_id                  int64\n",
       "ds           datetime64[ns, UTC]\n",
       "y                          int64\n",
       "dtype: object"
      ]
     },
     "execution_count": 31,
     "metadata": {},
     "output_type": "execute_result"
    }
   ],
   "source": [
    "df.dtypes"
   ]
  },
  {
   "cell_type": "code",
   "execution_count": 32,
   "metadata": {},
   "outputs": [
    {
     "ename": "ValueError",
     "evalue": "The time column ('ds') should have either timestamps or integers, got 'object'.",
     "output_type": "error",
     "traceback": [
      "\u001b[0;31m---------------------------------------------------------------------------\u001b[0m",
      "\u001b[0;31mValueError\u001b[0m                                Traceback (most recent call last)",
      "\u001b[1;32m/workspaces/SE-Europe-Data_Challenge/data/processed/2022_to_2023/EDA.ipynb Cell 17\u001b[0m line \u001b[0;36m1\n\u001b[0;32m----> <a href='vscode-notebook-cell://codespaces%2Bcautious-waffle-xvrx6qjrxv53p9qq/workspaces/SE-Europe-Data_Challenge/data/processed/2022_to_2023/EDA.ipynb#X33sdnNjb2RlLXJlbW90ZQ%3D%3D?line=0'>1</a>\u001b[0m fig \u001b[39m=\u001b[39m plot_series(df)\n",
      "File \u001b[0;32m~/.python/current/lib/python3.10/site-packages/utilsforecast/plotting.py:137\u001b[0m, in \u001b[0;36mplot_series\u001b[0;34m(df, forecasts_df, ids, plot_random, max_ids, models, level, max_insample_length, plot_anomalies, engine, palette, id_col, time_col, target_col, seed, resampler_kwargs)\u001b[0m\n\u001b[1;32m    135\u001b[0m \u001b[39melif\u001b[39;00m level \u001b[39mis\u001b[39;00m \u001b[39mNone\u001b[39;00m:\n\u001b[1;32m    136\u001b[0m     level \u001b[39m=\u001b[39m []\n\u001b[0;32m--> 137\u001b[0m validate_format(df, id_col, time_col, target_col)\n\u001b[1;32m    139\u001b[0m \u001b[39m# models to plot\u001b[39;00m\n\u001b[1;32m    140\u001b[0m \u001b[39mif\u001b[39;00m models \u001b[39mis\u001b[39;00m \u001b[39mNone\u001b[39;00m:\n",
      "File \u001b[0;32m~/.python/current/lib/python3.10/site-packages/utilsforecast/validation.py:93\u001b[0m, in \u001b[0;36mvalidate_format\u001b[0;34m(df, id_col, time_col, target_col)\u001b[0m\n\u001b[1;32m     91\u001b[0m \u001b[39mif\u001b[39;00m \u001b[39mnot\u001b[39;00m _is_dt_or_int(df[time_col]):\n\u001b[1;32m     92\u001b[0m     times_dtype \u001b[39m=\u001b[39m df[time_col]\u001b[39m.\u001b[39mhead(\u001b[39m1\u001b[39m)\u001b[39m.\u001b[39mto_numpy()\u001b[39m.\u001b[39mdtype\n\u001b[0;32m---> 93\u001b[0m     \u001b[39mraise\u001b[39;00m \u001b[39mValueError\u001b[39;00m(\n\u001b[1;32m     94\u001b[0m         \u001b[39mf\u001b[39m\u001b[39m\"\u001b[39m\u001b[39mThe time column (\u001b[39m\u001b[39m'\u001b[39m\u001b[39m{\u001b[39;00mtime_col\u001b[39m}\u001b[39;00m\u001b[39m'\u001b[39m\u001b[39m) should have either timestamps or integers, got \u001b[39m\u001b[39m'\u001b[39m\u001b[39m{\u001b[39;00mtimes_dtype\u001b[39m}\u001b[39;00m\u001b[39m'\u001b[39m\u001b[39m.\u001b[39m\u001b[39m\"\u001b[39m\n\u001b[1;32m     95\u001b[0m     )\n\u001b[1;32m     97\u001b[0m \u001b[39m# target col\u001b[39;00m\n\u001b[1;32m     98\u001b[0m target \u001b[39m=\u001b[39m df[target_col]\n",
      "\u001b[0;31mValueError\u001b[0m: The time column ('ds') should have either timestamps or integers, got 'object'."
     ]
    }
   ],
   "source": [
    "fig = plot_series(df)"
   ]
  },
  {
   "cell_type": "code",
   "execution_count": 1,
   "metadata": {},
   "outputs": [],
   "source": [
    "import pandas as pd\n",
    "import os\n",
    "\n",
    "def process_files(source_directory, destination_directory):\n",
    "    # Create the destination directory if it doesn't exist\n",
    "    if not os.path.exists(destination_directory):\n",
    "        os.makedirs(destination_directory)\n",
    "\n",
    "    for file in os.listdir(source_directory):\n",
    "        if file.startswith('gen_') and file.endswith('.csv'):\n",
    "            file_path = os.path.join(source_directory, file)\n",
    "            df = pd.read_csv(file_path)\n",
    "\n",
    "            # Removing 'Z' and parsing the StartTime and EndTime columns\n",
    "            df['StartTime'] = df['StartTime'].str[:-1]  # Remove 'Z'\n",
    "            df['EndTime'] = df['EndTime'].str[:-1]  # Remove 'Z'\n",
    "\n",
    "            df['StartTime'] = pd.to_datetime(df['StartTime'])\n",
    "            df['EndTime'] = pd.to_datetime(df['EndTime'])\n",
    "\n",
    "            # Calculating the time interval\n",
    "            df['time_interval'] = df['EndTime'] - df['StartTime']\n",
    "\n",
    "            # Saving the modified dataframe in the destination directory\n",
    "            modified_file_name = file.replace('.csv', '_modified.csv')\n",
    "            df.to_csv(os.path.join(destination_directory, modified_file_name), index=False)\n"
   ]
  },
  {
   "cell_type": "code",
   "execution_count": 2,
   "metadata": {},
   "outputs": [],
   "source": [
    "# Define your source and destination directories\n",
    "source_directory = '/workspaces/SE-Europe-Data_Challenge/data/raw/2021_to_2022'\n",
    "destination_directory = '/workspaces/SE-Europe-Data_Challenge/data/processed/2021_to_2022'\n",
    "process_files(source_directory, destination_directory)"
   ]
  },
  {
   "cell_type": "code",
   "execution_count": 3,
   "metadata": {},
   "outputs": [],
   "source": [
    "# Define your source and destination directories\n",
    "source_directory = '/workspaces/SE-Europe-Data_Challenge/data/raw/2022_to_2023'\n",
    "destination_directory = '/workspaces/SE-Europe-Data_Challenge/data/processed/2022_to_2023'\n",
    "process_files(source_directory, destination_directory)"
   ]
  },
  {
   "cell_type": "code",
   "execution_count": 5,
   "metadata": {},
   "outputs": [],
   "source": [
    "# Spain, Sweden, Poland, Italy, Denmark have 1 hour intervals already\n",
    "# UK has 30 mins intervals, so we group 2 rows\n",
    "# Netherlands, Germany, Hungary have 15 min intervals, so we group by 4 rows\n",
    "\n",
    "uk_gen = pd.read_csv(\"/workspaces/SE-Europe-Data_Challenge/data/processed/2022_to_2023/gen_UK_B19_modified.csv\", parse_dates=['StartTime', 'EndTime'])"
   ]
  },
  {
   "cell_type": "code",
   "execution_count": 6,
   "metadata": {},
   "outputs": [
    {
     "data": {
      "text/plain": [
       "StartTime        datetime64[ns, UTC]\n",
       "EndTime          datetime64[ns, UTC]\n",
       "AreaID                        object\n",
       "UnitName                      object\n",
       "PsrType                       object\n",
       "quantity                       int64\n",
       "time_interval                 object\n",
       "dtype: object"
      ]
     },
     "execution_count": 6,
     "metadata": {},
     "output_type": "execute_result"
    }
   ],
   "source": [
    "uk_gen.dtypes"
   ]
  },
  {
   "cell_type": "code",
   "execution_count": 45,
   "metadata": {},
   "outputs": [],
   "source": [
    "df = uk_gen.copy(deep=True)"
   ]
  },
  {
   "cell_type": "code",
   "execution_count": 46,
   "metadata": {},
   "outputs": [],
   "source": [
    "df['Duration'] = df['EndTime'] - df['StartTime']"
   ]
  },
  {
   "cell_type": "code",
   "execution_count": 48,
   "metadata": {},
   "outputs": [],
   "source": [
    "df.set_index('EndTime', inplace=True)"
   ]
  },
  {
   "cell_type": "code",
   "execution_count": 49,
   "metadata": {},
   "outputs": [],
   "source": [
    "resampled_quantity = df['quantity'].resample('H').sum()\n"
   ]
  },
  {
   "cell_type": "code",
   "execution_count": 51,
   "metadata": {},
   "outputs": [
    {
     "data": {
      "text/html": [
       "<div>\n",
       "<style scoped>\n",
       "    .dataframe tbody tr th:only-of-type {\n",
       "        vertical-align: middle;\n",
       "    }\n",
       "\n",
       "    .dataframe tbody tr th {\n",
       "        vertical-align: top;\n",
       "    }\n",
       "\n",
       "    .dataframe thead th {\n",
       "        text-align: right;\n",
       "    }\n",
       "</style>\n",
       "<table border=\"1\" class=\"dataframe\">\n",
       "  <thead>\n",
       "    <tr style=\"text-align: right;\">\n",
       "      <th></th>\n",
       "      <th>StartTime</th>\n",
       "      <th>AreaID</th>\n",
       "      <th>UnitName</th>\n",
       "      <th>PsrType</th>\n",
       "      <th>quantity</th>\n",
       "      <th>time_interval</th>\n",
       "      <th>Duration</th>\n",
       "    </tr>\n",
       "    <tr>\n",
       "      <th>EndTime</th>\n",
       "      <th></th>\n",
       "      <th></th>\n",
       "      <th></th>\n",
       "      <th></th>\n",
       "      <th></th>\n",
       "      <th></th>\n",
       "      <th></th>\n",
       "    </tr>\n",
       "  </thead>\n",
       "  <tbody>\n",
       "    <tr>\n",
       "      <th>2022-01-27 00:00:00+00:00</th>\n",
       "      <td>2022-01-26 23:30:00+00:00</td>\n",
       "      <td>10Y1001A1001A92E</td>\n",
       "      <td>MAW</td>\n",
       "      <td>B19</td>\n",
       "      <td>433</td>\n",
       "      <td>0 days 00:30:00</td>\n",
       "      <td>0 days 00:30:00</td>\n",
       "    </tr>\n",
       "    <tr>\n",
       "      <th>2022-01-27 00:30:00+00:00</th>\n",
       "      <td>2022-01-27 00:00:00+00:00</td>\n",
       "      <td>10Y1001A1001A92E</td>\n",
       "      <td>MAW</td>\n",
       "      <td>B19</td>\n",
       "      <td>472</td>\n",
       "      <td>0 days 00:30:00</td>\n",
       "      <td>0 days 00:30:00</td>\n",
       "    </tr>\n",
       "    <tr>\n",
       "      <th>2022-01-27 01:00:00+00:00</th>\n",
       "      <td>2022-01-27 00:30:00+00:00</td>\n",
       "      <td>10Y1001A1001A92E</td>\n",
       "      <td>MAW</td>\n",
       "      <td>B19</td>\n",
       "      <td>549</td>\n",
       "      <td>0 days 00:30:00</td>\n",
       "      <td>0 days 00:30:00</td>\n",
       "    </tr>\n",
       "    <tr>\n",
       "      <th>2022-01-27 01:30:00+00:00</th>\n",
       "      <td>2022-01-27 01:00:00+00:00</td>\n",
       "      <td>10Y1001A1001A92E</td>\n",
       "      <td>MAW</td>\n",
       "      <td>B19</td>\n",
       "      <td>520</td>\n",
       "      <td>0 days 00:30:00</td>\n",
       "      <td>0 days 00:30:00</td>\n",
       "    </tr>\n",
       "    <tr>\n",
       "      <th>2022-01-27 02:00:00+00:00</th>\n",
       "      <td>2022-01-27 01:30:00+00:00</td>\n",
       "      <td>10Y1001A1001A92E</td>\n",
       "      <td>MAW</td>\n",
       "      <td>B19</td>\n",
       "      <td>407</td>\n",
       "      <td>0 days 00:30:00</td>\n",
       "      <td>0 days 00:30:00</td>\n",
       "    </tr>\n",
       "  </tbody>\n",
       "</table>\n",
       "</div>"
      ],
      "text/plain": [
       "                                          StartTime            AreaID  \\\n",
       "EndTime                                                                 \n",
       "2022-01-27 00:00:00+00:00 2022-01-26 23:30:00+00:00  10Y1001A1001A92E   \n",
       "2022-01-27 00:30:00+00:00 2022-01-27 00:00:00+00:00  10Y1001A1001A92E   \n",
       "2022-01-27 01:00:00+00:00 2022-01-27 00:30:00+00:00  10Y1001A1001A92E   \n",
       "2022-01-27 01:30:00+00:00 2022-01-27 01:00:00+00:00  10Y1001A1001A92E   \n",
       "2022-01-27 02:00:00+00:00 2022-01-27 01:30:00+00:00  10Y1001A1001A92E   \n",
       "\n",
       "                          UnitName PsrType  quantity    time_interval  \\\n",
       "EndTime                                                                 \n",
       "2022-01-27 00:00:00+00:00      MAW     B19       433  0 days 00:30:00   \n",
       "2022-01-27 00:30:00+00:00      MAW     B19       472  0 days 00:30:00   \n",
       "2022-01-27 01:00:00+00:00      MAW     B19       549  0 days 00:30:00   \n",
       "2022-01-27 01:30:00+00:00      MAW     B19       520  0 days 00:30:00   \n",
       "2022-01-27 02:00:00+00:00      MAW     B19       407  0 days 00:30:00   \n",
       "\n",
       "                                 Duration  \n",
       "EndTime                                    \n",
       "2022-01-27 00:00:00+00:00 0 days 00:30:00  \n",
       "2022-01-27 00:30:00+00:00 0 days 00:30:00  \n",
       "2022-01-27 01:00:00+00:00 0 days 00:30:00  \n",
       "2022-01-27 01:30:00+00:00 0 days 00:30:00  \n",
       "2022-01-27 02:00:00+00:00 0 days 00:30:00  "
      ]
     },
     "execution_count": 51,
     "metadata": {},
     "output_type": "execute_result"
    }
   ],
   "source": [
    "df.head()"
   ]
  },
  {
   "cell_type": "code",
   "execution_count": 52,
   "metadata": {},
   "outputs": [
    {
     "data": {
      "text/plain": [
       "EndTime\n",
       "2022-07-15 11:00:00+00:00       0\n",
       "2022-07-01 17:00:00+00:00       0\n",
       "2022-07-01 16:00:00+00:00       0\n",
       "2022-07-01 15:00:00+00:00       0\n",
       "2022-07-01 14:00:00+00:00       0\n",
       "                             ... \n",
       "2022-02-05 10:00:00+00:00    4053\n",
       "2022-02-05 11:00:00+00:00    4070\n",
       "2022-02-05 12:00:00+00:00    4073\n",
       "2022-02-06 12:00:00+00:00    4094\n",
       "2022-02-05 13:00:00+00:00    4180\n",
       "Name: quantity, Length: 8136, dtype: int64"
      ]
     },
     "execution_count": 52,
     "metadata": {},
     "output_type": "execute_result"
    }
   ],
   "source": [
    "resampled_quantity.sort_values()"
   ]
  },
  {
   "cell_type": "code",
   "execution_count": 53,
   "metadata": {},
   "outputs": [],
   "source": [
    "resampled_start_time = df['StartTime'].resample('H').first()  # or use .last()\n"
   ]
  },
  {
   "cell_type": "code",
   "execution_count": 54,
   "metadata": {},
   "outputs": [
    {
     "data": {
      "text/plain": [
       "EndTime\n",
       "2022-01-27 00:00:00+00:00   2022-01-26 23:30:00+00:00\n",
       "2022-01-27 01:00:00+00:00   2022-01-27 00:30:00+00:00\n",
       "2022-01-27 02:00:00+00:00   2022-01-27 01:30:00+00:00\n",
       "2022-01-27 03:00:00+00:00   2022-01-27 02:30:00+00:00\n",
       "2022-01-27 04:00:00+00:00   2022-01-27 03:30:00+00:00\n",
       "                                       ...           \n",
       "2022-12-31 19:00:00+00:00   2022-12-31 18:30:00+00:00\n",
       "2022-12-31 20:00:00+00:00   2022-12-31 19:30:00+00:00\n",
       "2022-12-31 21:00:00+00:00   2022-12-31 20:30:00+00:00\n",
       "2022-12-31 22:00:00+00:00   2022-12-31 21:30:00+00:00\n",
       "2022-12-31 23:00:00+00:00   2022-12-31 22:30:00+00:00\n",
       "Freq: H, Name: StartTime, Length: 8136, dtype: datetime64[ns, UTC]"
      ]
     },
     "execution_count": 54,
     "metadata": {},
     "output_type": "execute_result"
    }
   ],
   "source": [
    "resampled_start_time"
   ]
  },
  {
   "cell_type": "code",
   "execution_count": 55,
   "metadata": {},
   "outputs": [],
   "source": [
    "resampled_df = pd.DataFrame({\n",
    "    'quantity_sum': resampled_quantity,\n",
    "    'StartTime_first': resampled_start_time\n",
    "})\n"
   ]
  },
  {
   "cell_type": "code",
   "execution_count": 56,
   "metadata": {},
   "outputs": [
    {
     "data": {
      "text/html": [
       "<div>\n",
       "<style scoped>\n",
       "    .dataframe tbody tr th:only-of-type {\n",
       "        vertical-align: middle;\n",
       "    }\n",
       "\n",
       "    .dataframe tbody tr th {\n",
       "        vertical-align: top;\n",
       "    }\n",
       "\n",
       "    .dataframe thead th {\n",
       "        text-align: right;\n",
       "    }\n",
       "</style>\n",
       "<table border=\"1\" class=\"dataframe\">\n",
       "  <thead>\n",
       "    <tr style=\"text-align: right;\">\n",
       "      <th></th>\n",
       "      <th>quantity_sum</th>\n",
       "      <th>StartTime_first</th>\n",
       "    </tr>\n",
       "    <tr>\n",
       "      <th>EndTime</th>\n",
       "      <th></th>\n",
       "      <th></th>\n",
       "    </tr>\n",
       "  </thead>\n",
       "  <tbody>\n",
       "    <tr>\n",
       "      <th>2022-01-27 00:00:00+00:00</th>\n",
       "      <td>1809</td>\n",
       "      <td>2022-01-26 23:30:00+00:00</td>\n",
       "    </tr>\n",
       "    <tr>\n",
       "      <th>2022-01-27 01:00:00+00:00</th>\n",
       "      <td>2137</td>\n",
       "      <td>2022-01-27 00:30:00+00:00</td>\n",
       "    </tr>\n",
       "    <tr>\n",
       "      <th>2022-01-27 02:00:00+00:00</th>\n",
       "      <td>1636</td>\n",
       "      <td>2022-01-27 01:30:00+00:00</td>\n",
       "    </tr>\n",
       "    <tr>\n",
       "      <th>2022-01-27 03:00:00+00:00</th>\n",
       "      <td>851</td>\n",
       "      <td>2022-01-27 02:30:00+00:00</td>\n",
       "    </tr>\n",
       "    <tr>\n",
       "      <th>2022-01-27 04:00:00+00:00</th>\n",
       "      <td>1068</td>\n",
       "      <td>2022-01-27 03:30:00+00:00</td>\n",
       "    </tr>\n",
       "    <tr>\n",
       "      <th>...</th>\n",
       "      <td>...</td>\n",
       "      <td>...</td>\n",
       "    </tr>\n",
       "    <tr>\n",
       "      <th>2022-12-31 19:00:00+00:00</th>\n",
       "      <td>838</td>\n",
       "      <td>2022-12-31 18:30:00+00:00</td>\n",
       "    </tr>\n",
       "    <tr>\n",
       "      <th>2022-12-31 20:00:00+00:00</th>\n",
       "      <td>822</td>\n",
       "      <td>2022-12-31 19:30:00+00:00</td>\n",
       "    </tr>\n",
       "    <tr>\n",
       "      <th>2022-12-31 21:00:00+00:00</th>\n",
       "      <td>778</td>\n",
       "      <td>2022-12-31 20:30:00+00:00</td>\n",
       "    </tr>\n",
       "    <tr>\n",
       "      <th>2022-12-31 22:00:00+00:00</th>\n",
       "      <td>575</td>\n",
       "      <td>2022-12-31 21:30:00+00:00</td>\n",
       "    </tr>\n",
       "    <tr>\n",
       "      <th>2022-12-31 23:00:00+00:00</th>\n",
       "      <td>370</td>\n",
       "      <td>2022-12-31 22:30:00+00:00</td>\n",
       "    </tr>\n",
       "  </tbody>\n",
       "</table>\n",
       "<p>8136 rows × 2 columns</p>\n",
       "</div>"
      ],
      "text/plain": [
       "                           quantity_sum           StartTime_first\n",
       "EndTime                                                          \n",
       "2022-01-27 00:00:00+00:00          1809 2022-01-26 23:30:00+00:00\n",
       "2022-01-27 01:00:00+00:00          2137 2022-01-27 00:30:00+00:00\n",
       "2022-01-27 02:00:00+00:00          1636 2022-01-27 01:30:00+00:00\n",
       "2022-01-27 03:00:00+00:00           851 2022-01-27 02:30:00+00:00\n",
       "2022-01-27 04:00:00+00:00          1068 2022-01-27 03:30:00+00:00\n",
       "...                                 ...                       ...\n",
       "2022-12-31 19:00:00+00:00           838 2022-12-31 18:30:00+00:00\n",
       "2022-12-31 20:00:00+00:00           822 2022-12-31 19:30:00+00:00\n",
       "2022-12-31 21:00:00+00:00           778 2022-12-31 20:30:00+00:00\n",
       "2022-12-31 22:00:00+00:00           575 2022-12-31 21:30:00+00:00\n",
       "2022-12-31 23:00:00+00:00           370 2022-12-31 22:30:00+00:00\n",
       "\n",
       "[8136 rows x 2 columns]"
      ]
     },
     "execution_count": 56,
     "metadata": {},
     "output_type": "execute_result"
    }
   ],
   "source": [
    "resampled_df"
   ]
  },
  {
   "cell_type": "code",
   "execution_count": 40,
   "metadata": {},
   "outputs": [],
   "source": [
    "def basic_exploration(file_path):\n",
    "    df = pd.read_csv(file_path)\n",
    "    print(f\"\"\"\\nThe column names in the data are: \\n{df.columns}\\n{'x' * 60}\n",
    "          The datatypes of the columns are: \\n{df.dtypes}\n",
    "          {'x' * 60}\n",
    "          The minimum value of StartTime: {df['StartTime'].min()}\n",
    "          The maximum value of StartTime: {df['StartTime'].max()}\n",
    "          The minimum value of EndTime: {df['EndTime'].min()}\n",
    "          The maximum value of EndTime: {df['EndTime'].max()}\n",
    "          The minimum value of energy generated:  {df['quantity'].min()}\n",
    "          The maximum value of energy generated: {df['quantity'].max()}\n",
    "          \"\"\")"
   ]
  },
  {
   "cell_type": "code",
   "execution_count": 39,
   "metadata": {},
   "outputs": [
    {
     "name": "stdout",
     "output_type": "stream",
     "text": [
      "\n",
      "The column names in the data are: \n",
      "Index(['StartTime', 'EndTime', 'AreaID', 'UnitName', 'PsrType', 'quantity',\n",
      "       'time_interval'],\n",
      "      dtype='object')\n",
      "    xxxxxxxxxxxxxxxxxxxxxxxxxxxxxxxxxxxxxxxxxxxxxxxxxxxxxxxxxxxx\n",
      "          The datatypes of the columns are: \n",
      "StartTime        object\n",
      "EndTime          object\n",
      "AreaID           object\n",
      "UnitName         object\n",
      "PsrType          object\n",
      "quantity          int64\n",
      "time_interval    object\n",
      "dtype: object\n",
      "          xxxxxxxxxxxxxxxxxxxxxxxxxxxxxxxxxxxxxxxxxxxxxxxxxxxxxxxxxxxx\n",
      "          The minimum value of StartTime: 2022-01-26 23:30:00+00:00\n",
      "          The maximum value of StartTime: 2022-12-31 23:00:00+00:00\n",
      "          The minimum value of EndTime: 2022-01-27 00:00:00+00:00\n",
      "          The maximum value of EndTime: 2022-12-31 23:30:00+00:00\n",
      "          The minimum value of energy generated:  0\n",
      "          The maximum value of energy generated: 1052\n",
      "          \n",
      "          \n",
      "          \n"
     ]
    }
   ],
   "source": [
    "basic_exploration(\"/workspaces/SE-Europe-Data_Challenge/data/processed/2022_to_2023/gen_UK_B19_modified.csv\")"
   ]
  }
 ],
 "metadata": {
  "kernelspec": {
   "display_name": "Python 3",
   "language": "python",
   "name": "python3"
  },
  "language_info": {
   "codemirror_mode": {
    "name": "ipython",
    "version": 3
   },
   "file_extension": ".py",
   "mimetype": "text/x-python",
   "name": "python",
   "nbconvert_exporter": "python",
   "pygments_lexer": "ipython3",
   "version": "3.10.8"
  }
 },
 "nbformat": 4,
 "nbformat_minor": 2
}
