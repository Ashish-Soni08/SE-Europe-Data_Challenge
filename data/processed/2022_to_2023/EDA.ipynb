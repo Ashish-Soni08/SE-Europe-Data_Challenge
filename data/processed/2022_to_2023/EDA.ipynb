{
 "cells": [
  {
   "cell_type": "code",
   "execution_count": 1,
   "metadata": {},
   "outputs": [],
   "source": [
    "import pandas as pd\n",
    "import os\n",
    "\n",
    "def process_files(source_directory, destination_directory):\n",
    "    # Create the destination directory if it doesn't exist\n",
    "    if not os.path.exists(destination_directory):\n",
    "        os.makedirs(destination_directory)\n",
    "\n",
    "    for file in os.listdir(source_directory):\n",
    "        if file.startswith('gen_') and file.endswith('.csv'):\n",
    "            file_path = os.path.join(source_directory, file)\n",
    "            df = pd.read_csv(file_path)\n",
    "\n",
    "            # Removing 'Z' and parsing the StartTime and EndTime columns\n",
    "            df['StartTime'] = df['StartTime'].str[:-1]  # Remove 'Z'\n",
    "            df['EndTime'] = df['EndTime'].str[:-1]  # Remove 'Z'\n",
    "\n",
    "            df['StartTime'] = pd.to_datetime(df['StartTime'], format='%Y-%m-%dT%H:%M%z')\n",
    "            df['EndTime'] = pd.to_datetime(df['EndTime'], format='%Y-%m-%dT%H:%M%z')\n",
    "\n",
    "            # Calculating the time interval\n",
    "            df['time_interval'] = df['EndTime'] - df['StartTime']\n",
    "\n",
    "            # Saving the modified dataframe in the destination directory\n",
    "            modified_file_name = file.replace('.csv', '_modified.csv')\n",
    "            df.to_csv(os.path.join(destination_directory, modified_file_name), index=False)\n"
   ]
  },
  {
   "cell_type": "code",
   "execution_count": 2,
   "metadata": {},
   "outputs": [],
   "source": [
    "# Define your source and destination directories\n",
    "source_directory = '/workspaces/SE-Europe-Data_Challenge/data/raw/2021_to_2022'\n",
    "destination_directory = '/workspaces/SE-Europe-Data_Challenge/data/processed/2021_to_2022'\n",
    "process_files(source_directory, destination_directory)"
   ]
  },
  {
   "cell_type": "code",
   "execution_count": 3,
   "metadata": {},
   "outputs": [],
   "source": [
    "# Define your source and destination directories\n",
    "source_directory = '/workspaces/SE-Europe-Data_Challenge/data/raw/2022_to_2023'\n",
    "destination_directory = '/workspaces/SE-Europe-Data_Challenge/data/processed/2022_to_2023'\n",
    "process_files(source_directory, destination_directory)"
   ]
  },
  {
   "cell_type": "code",
   "execution_count": 5,
   "metadata": {},
   "outputs": [],
   "source": [
    "# Spain, Sweden, Poland, Italy, Denmark have 1 hour intervals already\n",
    "# UK has 30 mins intervals, so we group 2 rows\n",
    "# Netherlands, Germany, Hungary have 15 min intervals, so we group by 4 rows\n",
    "\n",
    "uk_gen = pd.read_csv(\"/workspaces/SE-Europe-Data_Challenge/data/processed/2022_to_2023/gen_UK_B19_modified.csv\", parse_dates=['StartTime', 'EndTime'])"
   ]
  },
  {
   "cell_type": "code",
   "execution_count": 6,
   "metadata": {},
   "outputs": [
    {
     "data": {
      "text/plain": [
       "StartTime        datetime64[ns, UTC]\n",
       "EndTime          datetime64[ns, UTC]\n",
       "AreaID                        object\n",
       "UnitName                      object\n",
       "PsrType                       object\n",
       "quantity                       int64\n",
       "time_interval                 object\n",
       "dtype: object"
      ]
     },
     "execution_count": 6,
     "metadata": {},
     "output_type": "execute_result"
    }
   ],
   "source": [
    "uk_gen.dtypes"
   ]
  },
  {
   "cell_type": "code",
   "execution_count": 45,
   "metadata": {},
   "outputs": [],
   "source": [
    "df = uk_gen.copy(deep=True)"
   ]
  },
  {
   "cell_type": "code",
   "execution_count": 46,
   "metadata": {},
   "outputs": [],
   "source": [
    "df['Duration'] = df['EndTime'] - df['StartTime']"
   ]
  },
  {
   "cell_type": "code",
   "execution_count": 48,
   "metadata": {},
   "outputs": [],
   "source": [
    "df.set_index('EndTime', inplace=True)"
   ]
  },
  {
   "cell_type": "code",
   "execution_count": 49,
   "metadata": {},
   "outputs": [],
   "source": [
    "resampled_quantity = df['quantity'].resample('H').sum()\n"
   ]
  },
  {
   "cell_type": "code",
   "execution_count": 51,
   "metadata": {},
   "outputs": [
    {
     "data": {
      "text/html": [
       "<div>\n",
       "<style scoped>\n",
       "    .dataframe tbody tr th:only-of-type {\n",
       "        vertical-align: middle;\n",
       "    }\n",
       "\n",
       "    .dataframe tbody tr th {\n",
       "        vertical-align: top;\n",
       "    }\n",
       "\n",
       "    .dataframe thead th {\n",
       "        text-align: right;\n",
       "    }\n",
       "</style>\n",
       "<table border=\"1\" class=\"dataframe\">\n",
       "  <thead>\n",
       "    <tr style=\"text-align: right;\">\n",
       "      <th></th>\n",
       "      <th>StartTime</th>\n",
       "      <th>AreaID</th>\n",
       "      <th>UnitName</th>\n",
       "      <th>PsrType</th>\n",
       "      <th>quantity</th>\n",
       "      <th>time_interval</th>\n",
       "      <th>Duration</th>\n",
       "    </tr>\n",
       "    <tr>\n",
       "      <th>EndTime</th>\n",
       "      <th></th>\n",
       "      <th></th>\n",
       "      <th></th>\n",
       "      <th></th>\n",
       "      <th></th>\n",
       "      <th></th>\n",
       "      <th></th>\n",
       "    </tr>\n",
       "  </thead>\n",
       "  <tbody>\n",
       "    <tr>\n",
       "      <th>2022-01-27 00:00:00+00:00</th>\n",
       "      <td>2022-01-26 23:30:00+00:00</td>\n",
       "      <td>10Y1001A1001A92E</td>\n",
       "      <td>MAW</td>\n",
       "      <td>B19</td>\n",
       "      <td>433</td>\n",
       "      <td>0 days 00:30:00</td>\n",
       "      <td>0 days 00:30:00</td>\n",
       "    </tr>\n",
       "    <tr>\n",
       "      <th>2022-01-27 00:30:00+00:00</th>\n",
       "      <td>2022-01-27 00:00:00+00:00</td>\n",
       "      <td>10Y1001A1001A92E</td>\n",
       "      <td>MAW</td>\n",
       "      <td>B19</td>\n",
       "      <td>472</td>\n",
       "      <td>0 days 00:30:00</td>\n",
       "      <td>0 days 00:30:00</td>\n",
       "    </tr>\n",
       "    <tr>\n",
       "      <th>2022-01-27 01:00:00+00:00</th>\n",
       "      <td>2022-01-27 00:30:00+00:00</td>\n",
       "      <td>10Y1001A1001A92E</td>\n",
       "      <td>MAW</td>\n",
       "      <td>B19</td>\n",
       "      <td>549</td>\n",
       "      <td>0 days 00:30:00</td>\n",
       "      <td>0 days 00:30:00</td>\n",
       "    </tr>\n",
       "    <tr>\n",
       "      <th>2022-01-27 01:30:00+00:00</th>\n",
       "      <td>2022-01-27 01:00:00+00:00</td>\n",
       "      <td>10Y1001A1001A92E</td>\n",
       "      <td>MAW</td>\n",
       "      <td>B19</td>\n",
       "      <td>520</td>\n",
       "      <td>0 days 00:30:00</td>\n",
       "      <td>0 days 00:30:00</td>\n",
       "    </tr>\n",
       "    <tr>\n",
       "      <th>2022-01-27 02:00:00+00:00</th>\n",
       "      <td>2022-01-27 01:30:00+00:00</td>\n",
       "      <td>10Y1001A1001A92E</td>\n",
       "      <td>MAW</td>\n",
       "      <td>B19</td>\n",
       "      <td>407</td>\n",
       "      <td>0 days 00:30:00</td>\n",
       "      <td>0 days 00:30:00</td>\n",
       "    </tr>\n",
       "  </tbody>\n",
       "</table>\n",
       "</div>"
      ],
      "text/plain": [
       "                                          StartTime            AreaID  \\\n",
       "EndTime                                                                 \n",
       "2022-01-27 00:00:00+00:00 2022-01-26 23:30:00+00:00  10Y1001A1001A92E   \n",
       "2022-01-27 00:30:00+00:00 2022-01-27 00:00:00+00:00  10Y1001A1001A92E   \n",
       "2022-01-27 01:00:00+00:00 2022-01-27 00:30:00+00:00  10Y1001A1001A92E   \n",
       "2022-01-27 01:30:00+00:00 2022-01-27 01:00:00+00:00  10Y1001A1001A92E   \n",
       "2022-01-27 02:00:00+00:00 2022-01-27 01:30:00+00:00  10Y1001A1001A92E   \n",
       "\n",
       "                          UnitName PsrType  quantity    time_interval  \\\n",
       "EndTime                                                                 \n",
       "2022-01-27 00:00:00+00:00      MAW     B19       433  0 days 00:30:00   \n",
       "2022-01-27 00:30:00+00:00      MAW     B19       472  0 days 00:30:00   \n",
       "2022-01-27 01:00:00+00:00      MAW     B19       549  0 days 00:30:00   \n",
       "2022-01-27 01:30:00+00:00      MAW     B19       520  0 days 00:30:00   \n",
       "2022-01-27 02:00:00+00:00      MAW     B19       407  0 days 00:30:00   \n",
       "\n",
       "                                 Duration  \n",
       "EndTime                                    \n",
       "2022-01-27 00:00:00+00:00 0 days 00:30:00  \n",
       "2022-01-27 00:30:00+00:00 0 days 00:30:00  \n",
       "2022-01-27 01:00:00+00:00 0 days 00:30:00  \n",
       "2022-01-27 01:30:00+00:00 0 days 00:30:00  \n",
       "2022-01-27 02:00:00+00:00 0 days 00:30:00  "
      ]
     },
     "execution_count": 51,
     "metadata": {},
     "output_type": "execute_result"
    }
   ],
   "source": [
    "df.head()"
   ]
  },
  {
   "cell_type": "code",
   "execution_count": 52,
   "metadata": {},
   "outputs": [
    {
     "data": {
      "text/plain": [
       "EndTime\n",
       "2022-07-15 11:00:00+00:00       0\n",
       "2022-07-01 17:00:00+00:00       0\n",
       "2022-07-01 16:00:00+00:00       0\n",
       "2022-07-01 15:00:00+00:00       0\n",
       "2022-07-01 14:00:00+00:00       0\n",
       "                             ... \n",
       "2022-02-05 10:00:00+00:00    4053\n",
       "2022-02-05 11:00:00+00:00    4070\n",
       "2022-02-05 12:00:00+00:00    4073\n",
       "2022-02-06 12:00:00+00:00    4094\n",
       "2022-02-05 13:00:00+00:00    4180\n",
       "Name: quantity, Length: 8136, dtype: int64"
      ]
     },
     "execution_count": 52,
     "metadata": {},
     "output_type": "execute_result"
    }
   ],
   "source": [
    "resampled_quantity.sort_values()"
   ]
  },
  {
   "cell_type": "code",
   "execution_count": 53,
   "metadata": {},
   "outputs": [],
   "source": [
    "resampled_start_time = df['StartTime'].resample('H').first()  # or use .last()\n"
   ]
  },
  {
   "cell_type": "code",
   "execution_count": 54,
   "metadata": {},
   "outputs": [
    {
     "data": {
      "text/plain": [
       "EndTime\n",
       "2022-01-27 00:00:00+00:00   2022-01-26 23:30:00+00:00\n",
       "2022-01-27 01:00:00+00:00   2022-01-27 00:30:00+00:00\n",
       "2022-01-27 02:00:00+00:00   2022-01-27 01:30:00+00:00\n",
       "2022-01-27 03:00:00+00:00   2022-01-27 02:30:00+00:00\n",
       "2022-01-27 04:00:00+00:00   2022-01-27 03:30:00+00:00\n",
       "                                       ...           \n",
       "2022-12-31 19:00:00+00:00   2022-12-31 18:30:00+00:00\n",
       "2022-12-31 20:00:00+00:00   2022-12-31 19:30:00+00:00\n",
       "2022-12-31 21:00:00+00:00   2022-12-31 20:30:00+00:00\n",
       "2022-12-31 22:00:00+00:00   2022-12-31 21:30:00+00:00\n",
       "2022-12-31 23:00:00+00:00   2022-12-31 22:30:00+00:00\n",
       "Freq: H, Name: StartTime, Length: 8136, dtype: datetime64[ns, UTC]"
      ]
     },
     "execution_count": 54,
     "metadata": {},
     "output_type": "execute_result"
    }
   ],
   "source": [
    "resampled_start_time"
   ]
  },
  {
   "cell_type": "code",
   "execution_count": 55,
   "metadata": {},
   "outputs": [],
   "source": [
    "resampled_df = pd.DataFrame({\n",
    "    'quantity_sum': resampled_quantity,\n",
    "    'StartTime_first': resampled_start_time\n",
    "})\n"
   ]
  },
  {
   "cell_type": "code",
   "execution_count": 56,
   "metadata": {},
   "outputs": [
    {
     "data": {
      "text/html": [
       "<div>\n",
       "<style scoped>\n",
       "    .dataframe tbody tr th:only-of-type {\n",
       "        vertical-align: middle;\n",
       "    }\n",
       "\n",
       "    .dataframe tbody tr th {\n",
       "        vertical-align: top;\n",
       "    }\n",
       "\n",
       "    .dataframe thead th {\n",
       "        text-align: right;\n",
       "    }\n",
       "</style>\n",
       "<table border=\"1\" class=\"dataframe\">\n",
       "  <thead>\n",
       "    <tr style=\"text-align: right;\">\n",
       "      <th></th>\n",
       "      <th>quantity_sum</th>\n",
       "      <th>StartTime_first</th>\n",
       "    </tr>\n",
       "    <tr>\n",
       "      <th>EndTime</th>\n",
       "      <th></th>\n",
       "      <th></th>\n",
       "    </tr>\n",
       "  </thead>\n",
       "  <tbody>\n",
       "    <tr>\n",
       "      <th>2022-01-27 00:00:00+00:00</th>\n",
       "      <td>1809</td>\n",
       "      <td>2022-01-26 23:30:00+00:00</td>\n",
       "    </tr>\n",
       "    <tr>\n",
       "      <th>2022-01-27 01:00:00+00:00</th>\n",
       "      <td>2137</td>\n",
       "      <td>2022-01-27 00:30:00+00:00</td>\n",
       "    </tr>\n",
       "    <tr>\n",
       "      <th>2022-01-27 02:00:00+00:00</th>\n",
       "      <td>1636</td>\n",
       "      <td>2022-01-27 01:30:00+00:00</td>\n",
       "    </tr>\n",
       "    <tr>\n",
       "      <th>2022-01-27 03:00:00+00:00</th>\n",
       "      <td>851</td>\n",
       "      <td>2022-01-27 02:30:00+00:00</td>\n",
       "    </tr>\n",
       "    <tr>\n",
       "      <th>2022-01-27 04:00:00+00:00</th>\n",
       "      <td>1068</td>\n",
       "      <td>2022-01-27 03:30:00+00:00</td>\n",
       "    </tr>\n",
       "    <tr>\n",
       "      <th>...</th>\n",
       "      <td>...</td>\n",
       "      <td>...</td>\n",
       "    </tr>\n",
       "    <tr>\n",
       "      <th>2022-12-31 19:00:00+00:00</th>\n",
       "      <td>838</td>\n",
       "      <td>2022-12-31 18:30:00+00:00</td>\n",
       "    </tr>\n",
       "    <tr>\n",
       "      <th>2022-12-31 20:00:00+00:00</th>\n",
       "      <td>822</td>\n",
       "      <td>2022-12-31 19:30:00+00:00</td>\n",
       "    </tr>\n",
       "    <tr>\n",
       "      <th>2022-12-31 21:00:00+00:00</th>\n",
       "      <td>778</td>\n",
       "      <td>2022-12-31 20:30:00+00:00</td>\n",
       "    </tr>\n",
       "    <tr>\n",
       "      <th>2022-12-31 22:00:00+00:00</th>\n",
       "      <td>575</td>\n",
       "      <td>2022-12-31 21:30:00+00:00</td>\n",
       "    </tr>\n",
       "    <tr>\n",
       "      <th>2022-12-31 23:00:00+00:00</th>\n",
       "      <td>370</td>\n",
       "      <td>2022-12-31 22:30:00+00:00</td>\n",
       "    </tr>\n",
       "  </tbody>\n",
       "</table>\n",
       "<p>8136 rows × 2 columns</p>\n",
       "</div>"
      ],
      "text/plain": [
       "                           quantity_sum           StartTime_first\n",
       "EndTime                                                          \n",
       "2022-01-27 00:00:00+00:00          1809 2022-01-26 23:30:00+00:00\n",
       "2022-01-27 01:00:00+00:00          2137 2022-01-27 00:30:00+00:00\n",
       "2022-01-27 02:00:00+00:00          1636 2022-01-27 01:30:00+00:00\n",
       "2022-01-27 03:00:00+00:00           851 2022-01-27 02:30:00+00:00\n",
       "2022-01-27 04:00:00+00:00          1068 2022-01-27 03:30:00+00:00\n",
       "...                                 ...                       ...\n",
       "2022-12-31 19:00:00+00:00           838 2022-12-31 18:30:00+00:00\n",
       "2022-12-31 20:00:00+00:00           822 2022-12-31 19:30:00+00:00\n",
       "2022-12-31 21:00:00+00:00           778 2022-12-31 20:30:00+00:00\n",
       "2022-12-31 22:00:00+00:00           575 2022-12-31 21:30:00+00:00\n",
       "2022-12-31 23:00:00+00:00           370 2022-12-31 22:30:00+00:00\n",
       "\n",
       "[8136 rows x 2 columns]"
      ]
     },
     "execution_count": 56,
     "metadata": {},
     "output_type": "execute_result"
    }
   ],
   "source": [
    "resampled_df"
   ]
  },
  {
   "cell_type": "code",
   "execution_count": 40,
   "metadata": {},
   "outputs": [],
   "source": [
    "def basic_exploration(file_path):\n",
    "    df = pd.read_csv(file_path)\n",
    "    print(f\"\"\"\\nThe column names in the data are: \\n{df.columns}\\n{'x' * 60}\n",
    "          The datatypes of the columns are: \\n{df.dtypes}\n",
    "          {'x' * 60}\n",
    "          The minimum value of StartTime: {df['StartTime'].min()}\n",
    "          The maximum value of StartTime: {df['StartTime'].max()}\n",
    "          The minimum value of EndTime: {df['EndTime'].min()}\n",
    "          The maximum value of EndTime: {df['EndTime'].max()}\n",
    "          The minimum value of energy generated:  {df['quantity'].min()}\n",
    "          The maximum value of energy generated: {df['quantity'].max()}\n",
    "          \"\"\")"
   ]
  },
  {
   "cell_type": "code",
   "execution_count": 39,
   "metadata": {},
   "outputs": [
    {
     "name": "stdout",
     "output_type": "stream",
     "text": [
      "\n",
      "The column names in the data are: \n",
      "Index(['StartTime', 'EndTime', 'AreaID', 'UnitName', 'PsrType', 'quantity',\n",
      "       'time_interval'],\n",
      "      dtype='object')\n",
      "    xxxxxxxxxxxxxxxxxxxxxxxxxxxxxxxxxxxxxxxxxxxxxxxxxxxxxxxxxxxx\n",
      "          The datatypes of the columns are: \n",
      "StartTime        object\n",
      "EndTime          object\n",
      "AreaID           object\n",
      "UnitName         object\n",
      "PsrType          object\n",
      "quantity          int64\n",
      "time_interval    object\n",
      "dtype: object\n",
      "          xxxxxxxxxxxxxxxxxxxxxxxxxxxxxxxxxxxxxxxxxxxxxxxxxxxxxxxxxxxx\n",
      "          The minimum value of StartTime: 2022-01-26 23:30:00+00:00\n",
      "          The maximum value of StartTime: 2022-12-31 23:00:00+00:00\n",
      "          The minimum value of EndTime: 2022-01-27 00:00:00+00:00\n",
      "          The maximum value of EndTime: 2022-12-31 23:30:00+00:00\n",
      "          The minimum value of energy generated:  0\n",
      "          The maximum value of energy generated: 1052\n",
      "          \n",
      "          \n",
      "          \n"
     ]
    }
   ],
   "source": [
    "basic_exploration(\"/workspaces/SE-Europe-Data_Challenge/data/processed/2022_to_2023/gen_UK_B19_modified.csv\")"
   ]
  }
 ],
 "metadata": {
  "kernelspec": {
   "display_name": "Python 3",
   "language": "python",
   "name": "python3"
  },
  "language_info": {
   "codemirror_mode": {
    "name": "ipython",
    "version": 3
   },
   "file_extension": ".py",
   "mimetype": "text/x-python",
   "name": "python",
   "nbconvert_exporter": "python",
   "pygments_lexer": "ipython3",
   "version": "3.10.8"
  }
 },
 "nbformat": 4,
 "nbformat_minor": 2
}
